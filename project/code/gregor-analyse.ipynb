{
 "cells": [
  {
   "cell_type": "markdown",
   "source": [],
   "metadata": {
    "collapsed": false,
    "pycharm": {
     "name": "#%% md\n"
    }
   }
  },
  {
   "cell_type": "code",
   "execution_count": 51,
   "outputs": [],
   "source": [
    "import pandas as pd\n",
    "from cloudmesh.common.Shell import Shell\n",
    "from cloudmesh.common.util import readfile\n",
    "import os\n",
    "from io import StringIO"
   ],
   "metadata": {
    "collapsed": false,
    "pycharm": {
     "name": "#%%\n"
    }
   }
  },
  {
   "cell_type": "code",
   "execution_count": 52,
   "outputs": [
    {
     "name": "stdout",
     "output_type": "stream",
     "text": [
      "/home/green/Desktop/cm/su21-reu-361/project\r\n"
     ]
    }
   ],
   "source": [
    "!pwd"
   ],
   "metadata": {
    "collapsed": false,
    "pycharm": {
     "name": "#%%\n"
    }
   }
  },
  {
   "cell_type": "code",
   "execution_count": 53,
   "outputs": [],
   "source": [
    "filename = \".o  benchmarks/gregor-5090X-RTX3090.log\"\n"
   ],
   "metadata": {
    "collapsed": false,
    "pycharm": {
     "name": "#%%\n"
    }
   }
  },
  {
   "cell_type": "code",
   "execution_count": 54,
   "outputs": [
    {
     "name": "stdout",
     "output_type": "stream",
     "text": [
      "./code/benchmarks/gregor-5090X-RTX3090.log\n"
     ]
    },
    {
     "data": {
      "text/plain": "0"
     },
     "execution_count": 54,
     "metadata": {},
     "output_type": "execute_result"
    }
   ],
   "source": [
    "os.system(f\"ls {filename}\")"
   ],
   "metadata": {
    "collapsed": false,
    "pycharm": {
     "name": "#%%\n"
    }
   }
  },
  {
   "cell_type": "code",
   "execution_count": 72,
   "outputs": [],
   "source": [
    "lines = readfile(filename).splitlines()\n",
    "content = Shell.find_lines_with(lines, what=\"csv\")\n",
    "content = \"\\n\".join(content)"
   ],
   "metadata": {
    "collapsed": false,
    "pycharm": {
     "name": "#%%\n"
    }
   }
  },
  {
   "cell_type": "code",
   "execution_count": 72,
   "outputs": [],
   "source": [],
   "metadata": {
    "collapsed": false,
    "pycharm": {
     "name": "#%%\n"
    }
   }
  },
  {
   "cell_type": "code",
   "execution_count": 73,
   "outputs": [],
   "source": [
    "df = pd.DataFrame()"
   ],
   "metadata": {
    "collapsed": false,
    "pycharm": {
     "name": "#%%\n"
    }
   }
  },
  {
   "cell_type": "code",
   "execution_count": 74,
   "outputs": [],
   "source": [
    "csv_stream = StringIO(content)\n",
    "df = pd.read_csv(csv_stream, sep=\",\", header=0)"
   ],
   "metadata": {
    "collapsed": false,
    "pycharm": {
     "name": "#%%\n"
    }
   }
  },
  {
   "cell_type": "code",
   "execution_count": 74,
   "outputs": [],
   "source": [],
   "metadata": {
    "collapsed": false,
    "pycharm": {
     "name": "#%%\n"
    }
   }
  },
  {
   "cell_type": "code",
   "execution_count": 75,
   "outputs": [
    {
     "data": {
      "text/plain": "                         timer    time     sum                start       tag  \\\n0            total-EOS-USD-2-0   2.720   2.720  2022-06-12 23:09:39  DOGE-USD   \n1         training-EOS-USD-2-0   2.303   2.303  2022-06-12 23:09:40  DOGE-USD   \n2       prediction-EOS-USD-2-0   0.191   0.191  2022-06-12 23:09:42  DOGE-USD   \n3             RMSE-EOS-USD-2-0   0.000   0.000  2022-06-12 23:09:42  DOGE-USD   \n4            total-EOS-USD-2-1   1.491   1.491  2022-06-12 23:09:42  DOGE-USD   \n..                         ...     ...     ...                  ...       ...   \n795        RMSE-DOGE-USD-225-3   0.000   0.000  2022-06-12 23:55:08  DOGE-USD   \n796       total-DOGE-USD-225-4  22.495  22.495  2022-06-12 23:55:08  DOGE-USD   \n797    training-DOGE-USD-225-4  21.990  21.990  2022-06-12 23:55:08  DOGE-USD   \n798  prediction-DOGE-USD-225-4   0.229   0.229  2022-06-12 23:55:30  DOGE-USD   \n799        RMSE-DOGE-USD-225-4   0.000   0.000  2022-06-12 23:55:31  DOGE-USD   \n\n                      msg     uname.node    user  \n0                    None  5090X-RTX3090  gregor  \n1                    None  5090X-RTX3090  gregor  \n2                    None  5090X-RTX3090  gregor  \n3      1.3022665740837391  5090X-RTX3090  gregor  \n4                    None  5090X-RTX3090  gregor  \n..                    ...            ...     ...  \n795  0.013700710930753857  5090X-RTX3090  gregor  \n796                  None  5090X-RTX3090  gregor  \n797                  None  5090X-RTX3090  gregor  \n798                  None  5090X-RTX3090  gregor  \n799  0.007148197443453857  5090X-RTX3090  gregor  \n\n[800 rows x 8 columns]",
      "text/html": "<div>\n<style scoped>\n    .dataframe tbody tr th:only-of-type {\n        vertical-align: middle;\n    }\n\n    .dataframe tbody tr th {\n        vertical-align: top;\n    }\n\n    .dataframe thead th {\n        text-align: right;\n    }\n</style>\n<table border=\"1\" class=\"dataframe\">\n  <thead>\n    <tr style=\"text-align: right;\">\n      <th></th>\n      <th>timer</th>\n      <th>time</th>\n      <th>sum</th>\n      <th>start</th>\n      <th>tag</th>\n      <th>msg</th>\n      <th>uname.node</th>\n      <th>user</th>\n    </tr>\n  </thead>\n  <tbody>\n    <tr>\n      <th>0</th>\n      <td>total-EOS-USD-2-0</td>\n      <td>2.720</td>\n      <td>2.720</td>\n      <td>2022-06-12 23:09:39</td>\n      <td>DOGE-USD</td>\n      <td>None</td>\n      <td>5090X-RTX3090</td>\n      <td>gregor</td>\n    </tr>\n    <tr>\n      <th>1</th>\n      <td>training-EOS-USD-2-0</td>\n      <td>2.303</td>\n      <td>2.303</td>\n      <td>2022-06-12 23:09:40</td>\n      <td>DOGE-USD</td>\n      <td>None</td>\n      <td>5090X-RTX3090</td>\n      <td>gregor</td>\n    </tr>\n    <tr>\n      <th>2</th>\n      <td>prediction-EOS-USD-2-0</td>\n      <td>0.191</td>\n      <td>0.191</td>\n      <td>2022-06-12 23:09:42</td>\n      <td>DOGE-USD</td>\n      <td>None</td>\n      <td>5090X-RTX3090</td>\n      <td>gregor</td>\n    </tr>\n    <tr>\n      <th>3</th>\n      <td>RMSE-EOS-USD-2-0</td>\n      <td>0.000</td>\n      <td>0.000</td>\n      <td>2022-06-12 23:09:42</td>\n      <td>DOGE-USD</td>\n      <td>1.3022665740837391</td>\n      <td>5090X-RTX3090</td>\n      <td>gregor</td>\n    </tr>\n    <tr>\n      <th>4</th>\n      <td>total-EOS-USD-2-1</td>\n      <td>1.491</td>\n      <td>1.491</td>\n      <td>2022-06-12 23:09:42</td>\n      <td>DOGE-USD</td>\n      <td>None</td>\n      <td>5090X-RTX3090</td>\n      <td>gregor</td>\n    </tr>\n    <tr>\n      <th>...</th>\n      <td>...</td>\n      <td>...</td>\n      <td>...</td>\n      <td>...</td>\n      <td>...</td>\n      <td>...</td>\n      <td>...</td>\n      <td>...</td>\n    </tr>\n    <tr>\n      <th>795</th>\n      <td>RMSE-DOGE-USD-225-3</td>\n      <td>0.000</td>\n      <td>0.000</td>\n      <td>2022-06-12 23:55:08</td>\n      <td>DOGE-USD</td>\n      <td>0.013700710930753857</td>\n      <td>5090X-RTX3090</td>\n      <td>gregor</td>\n    </tr>\n    <tr>\n      <th>796</th>\n      <td>total-DOGE-USD-225-4</td>\n      <td>22.495</td>\n      <td>22.495</td>\n      <td>2022-06-12 23:55:08</td>\n      <td>DOGE-USD</td>\n      <td>None</td>\n      <td>5090X-RTX3090</td>\n      <td>gregor</td>\n    </tr>\n    <tr>\n      <th>797</th>\n      <td>training-DOGE-USD-225-4</td>\n      <td>21.990</td>\n      <td>21.990</td>\n      <td>2022-06-12 23:55:08</td>\n      <td>DOGE-USD</td>\n      <td>None</td>\n      <td>5090X-RTX3090</td>\n      <td>gregor</td>\n    </tr>\n    <tr>\n      <th>798</th>\n      <td>prediction-DOGE-USD-225-4</td>\n      <td>0.229</td>\n      <td>0.229</td>\n      <td>2022-06-12 23:55:30</td>\n      <td>DOGE-USD</td>\n      <td>None</td>\n      <td>5090X-RTX3090</td>\n      <td>gregor</td>\n    </tr>\n    <tr>\n      <th>799</th>\n      <td>RMSE-DOGE-USD-225-4</td>\n      <td>0.000</td>\n      <td>0.000</td>\n      <td>2022-06-12 23:55:31</td>\n      <td>DOGE-USD</td>\n      <td>0.007148197443453857</td>\n      <td>5090X-RTX3090</td>\n      <td>gregor</td>\n    </tr>\n  </tbody>\n</table>\n<p>800 rows × 8 columns</p>\n</div>"
     },
     "execution_count": 75,
     "metadata": {},
     "output_type": "execute_result"
    }
   ],
   "source": [
    "df = df.drop(columns=[\"# csv\", \"status\", \"uname.system\", \"platform.version\"])\n",
    "df"
   ],
   "metadata": {
    "collapsed": false,
    "pycharm": {
     "name": "#%%\n"
    }
   }
  },
  {
   "cell_type": "code",
   "execution_count": 90,
   "outputs": [],
   "source": [],
   "metadata": {
    "collapsed": false,
    "pycharm": {
     "name": "#%%\n"
    }
   }
  },
  {
   "cell_type": "code",
   "execution_count": 90,
   "outputs": [],
   "source": [],
   "metadata": {
    "collapsed": false,
    "pycharm": {
     "name": "#%%\n"
    }
   }
  },
  {
   "cell_type": "code",
   "execution_count": 111,
   "outputs": [
    {
     "data": {
      "text/plain": "                   timer     uname.node    user  name epoch  i      rmse\n3       RMSE-EOS-USD-2-0  5090X-RTX3090  gregor   EOS     2  0  1.302267\n7       RMSE-EOS-USD-2-1  5090X-RTX3090  gregor   EOS     2  1  1.429720\n11      RMSE-EOS-USD-2-2  5090X-RTX3090  gregor   EOS     2  2  1.391311\n15      RMSE-EOS-USD-2-3  5090X-RTX3090  gregor   EOS     2  3  1.363798\n19      RMSE-EOS-USD-2-4  5090X-RTX3090  gregor   EOS     2  4  1.126530\n..                   ...            ...     ...   ...   ... ..       ...\n783  RMSE-DOGE-USD-225-0  5090X-RTX3090  gregor  DOGE   225  0  0.007687\n787  RMSE-DOGE-USD-225-1  5090X-RTX3090  gregor  DOGE   225  1  0.012367\n791  RMSE-DOGE-USD-225-2  5090X-RTX3090  gregor  DOGE   225  2  0.009004\n795  RMSE-DOGE-USD-225-3  5090X-RTX3090  gregor  DOGE   225  3  0.013701\n799  RMSE-DOGE-USD-225-4  5090X-RTX3090  gregor  DOGE   225  4  0.007148\n\n[200 rows x 7 columns]",
      "text/html": "<div>\n<style scoped>\n    .dataframe tbody tr th:only-of-type {\n        vertical-align: middle;\n    }\n\n    .dataframe tbody tr th {\n        vertical-align: top;\n    }\n\n    .dataframe thead th {\n        text-align: right;\n    }\n</style>\n<table border=\"1\" class=\"dataframe\">\n  <thead>\n    <tr style=\"text-align: right;\">\n      <th></th>\n      <th>timer</th>\n      <th>uname.node</th>\n      <th>user</th>\n      <th>name</th>\n      <th>epoch</th>\n      <th>i</th>\n      <th>rmse</th>\n    </tr>\n  </thead>\n  <tbody>\n    <tr>\n      <th>3</th>\n      <td>RMSE-EOS-USD-2-0</td>\n      <td>5090X-RTX3090</td>\n      <td>gregor</td>\n      <td>EOS</td>\n      <td>2</td>\n      <td>0</td>\n      <td>1.302267</td>\n    </tr>\n    <tr>\n      <th>7</th>\n      <td>RMSE-EOS-USD-2-1</td>\n      <td>5090X-RTX3090</td>\n      <td>gregor</td>\n      <td>EOS</td>\n      <td>2</td>\n      <td>1</td>\n      <td>1.429720</td>\n    </tr>\n    <tr>\n      <th>11</th>\n      <td>RMSE-EOS-USD-2-2</td>\n      <td>5090X-RTX3090</td>\n      <td>gregor</td>\n      <td>EOS</td>\n      <td>2</td>\n      <td>2</td>\n      <td>1.391311</td>\n    </tr>\n    <tr>\n      <th>15</th>\n      <td>RMSE-EOS-USD-2-3</td>\n      <td>5090X-RTX3090</td>\n      <td>gregor</td>\n      <td>EOS</td>\n      <td>2</td>\n      <td>3</td>\n      <td>1.363798</td>\n    </tr>\n    <tr>\n      <th>19</th>\n      <td>RMSE-EOS-USD-2-4</td>\n      <td>5090X-RTX3090</td>\n      <td>gregor</td>\n      <td>EOS</td>\n      <td>2</td>\n      <td>4</td>\n      <td>1.126530</td>\n    </tr>\n    <tr>\n      <th>...</th>\n      <td>...</td>\n      <td>...</td>\n      <td>...</td>\n      <td>...</td>\n      <td>...</td>\n      <td>...</td>\n      <td>...</td>\n    </tr>\n    <tr>\n      <th>783</th>\n      <td>RMSE-DOGE-USD-225-0</td>\n      <td>5090X-RTX3090</td>\n      <td>gregor</td>\n      <td>DOGE</td>\n      <td>225</td>\n      <td>0</td>\n      <td>0.007687</td>\n    </tr>\n    <tr>\n      <th>787</th>\n      <td>RMSE-DOGE-USD-225-1</td>\n      <td>5090X-RTX3090</td>\n      <td>gregor</td>\n      <td>DOGE</td>\n      <td>225</td>\n      <td>1</td>\n      <td>0.012367</td>\n    </tr>\n    <tr>\n      <th>791</th>\n      <td>RMSE-DOGE-USD-225-2</td>\n      <td>5090X-RTX3090</td>\n      <td>gregor</td>\n      <td>DOGE</td>\n      <td>225</td>\n      <td>2</td>\n      <td>0.009004</td>\n    </tr>\n    <tr>\n      <th>795</th>\n      <td>RMSE-DOGE-USD-225-3</td>\n      <td>5090X-RTX3090</td>\n      <td>gregor</td>\n      <td>DOGE</td>\n      <td>225</td>\n      <td>3</td>\n      <td>0.013701</td>\n    </tr>\n    <tr>\n      <th>799</th>\n      <td>RMSE-DOGE-USD-225-4</td>\n      <td>5090X-RTX3090</td>\n      <td>gregor</td>\n      <td>DOGE</td>\n      <td>225</td>\n      <td>4</td>\n      <td>0.007148</td>\n    </tr>\n  </tbody>\n</table>\n<p>200 rows × 7 columns</p>\n</div>"
     },
     "execution_count": 111,
     "metadata": {},
     "output_type": "execute_result"
    }
   ],
   "source": [
    "rmse = df.copy()\n",
    "rmse = rmse[rmse['timer'].str.contains('RMSE')]\n",
    "rmse[['rest', 'name', 'unit', 'epoch', 'i', ]] = rmse['timer'].str.rsplit('-', 4, expand=True)\n",
    "rmse[['rest', 'epoch', 'i', ]] = rmse['timer'].str.rsplit('-', 2, expand=True)\n",
    "rmse[\"rmse\"] = rmse[\"msg\"].astype(\"float\")\n",
    "rmse = rmse.drop(columns=[\"time\", \"sum\", \"start\", \"rest\", \"msg\", \"unit\", \"tag\"])\n",
    "rmse"
   ],
   "metadata": {
    "collapsed": false,
    "pycharm": {
     "name": "#%%\n"
    }
   }
  },
  {
   "cell_type": "code",
   "execution_count": 105,
   "outputs": [],
   "source": [],
   "metadata": {
    "collapsed": false,
    "pycharm": {
     "name": "#%%\n"
    }
   }
  },
  {
   "cell_type": "code",
   "execution_count": 118,
   "outputs": [],
   "source": [
    "import seaborn as sns\n",
    "from matplotlib import pyplot as plt"
   ],
   "metadata": {
    "collapsed": false,
    "pycharm": {
     "name": "#%%\n"
    }
   }
  },
  {
   "cell_type": "code",
   "execution_count": 121,
   "outputs": [
    {
     "data": {
      "text/plain": "<Figure size 432x288 with 1 Axes>",
      "image/png": "[encoded data removed]"
     },
     "metadata": {
      "needs_background": "light"
     },
     "output_type": "display_data"
    },
    {
     "data": {
      "text/plain": "<Figure size 432x288 with 1 Axes>",
      "image/png": "[encoded data removed]"
     },
     "metadata": {
      "needs_background": "light"
     },
     "output_type": "display_data"
    },
    {
     "data": {
      "text/plain": "<Figure size 432x288 with 1 Axes>",
      "image/png": "[encoded data removed]"
     },
     "metadata": {
      "needs_background": "light"
     },
     "output_type": "display_data"
    },
    {
     "data": {
      "text/plain": "<Figure size 432x288 with 1 Axes>",
      "image/png": "[encoded data removed]"
     },
     "metadata": {
      "needs_background": "light"
     },
     "output_type": "display_data"
    },
    {
     "data": {
      "text/plain": "<Figure size 432x288 with 1 Axes>",
      "image/png": "[encoded data removed]"
     },
     "metadata": {
      "needs_background": "light"
     },
     "output_type": "display_data"
    }
   ],
   "source": [
    "for e in [50, 100, 150, 200, 225]:\n",
    "    epoch = rmse[rmse['epoch'].str.contains('175')]\n",
    "    ax = sns.boxplot(x=\"name\", y=\"rmse\", data=epoch)\n",
    "    ax.set_title(f\"epoch={e}\")\n",
    "    plt.show()"
   ],
   "metadata": {
    "collapsed": false,
    "pycharm": {
     "name": "#%%\n"
    }
   }
  },
  {
   "cell_type": "code",
   "execution_count": 114,
   "outputs": [
    {
     "data": {
      "text/plain": "<Figure size 432x288 with 1 Axes>",
      "image/png": "[encoded data removed]"
     },
     "metadata": {
      "needs_background": "light"
     },
     "output_type": "display_data"
    }
   ],
   "source": [],
   "metadata": {
    "collapsed": false,
    "pycharm": {
     "name": "#%%\n"
    }
   }
  },
  {
   "cell_type": "code",
   "execution_count": null,
   "outputs": [],
   "source": [],
   "metadata": {
    "collapsed": false,
    "pycharm": {
     "name": "#%%\n"
    }
   }
  }
 ],
 "metadata": {
  "kernelspec": {
   "display_name": "Python 3",
   "language": "python",
   "name": "python3"
  },
  "language_info": {
   "codemirror_mode": {
    "name": "ipython",
    "version": 2
   },
   "file_extension": ".py",
   "mimetype": "text/x-python",
   "name": "python",
   "nbconvert_exporter": "python",
   "pygments_lexer": "ipython2",
   "version": "2.7.6"
  }
 },
 "nbformat": 4,
 "nbformat_minor": 0
}