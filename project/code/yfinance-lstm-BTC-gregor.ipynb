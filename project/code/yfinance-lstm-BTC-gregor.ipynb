{
 "cells": [
  {
   "cell_type": "code",
   "execution_count": 1,
   "metadata": {
    "collapsed": false,
    "execution": {
     "iopub.execute_input": "2022-06-11T22:09:28.567470Z",
     "iopub.status.busy": "2022-06-11T22:09:28.567193Z",
     "iopub.status.idle": "2022-06-11T22:09:38.739653Z",
     "shell.execute_reply": "2022-06-11T22:09:38.739414Z"
    },
    "pycharm": {
     "name": "#%%\n"
    }
   },
   "outputs": [],
   "source": [
    "import yfinance as yf\n",
    "import matplotlib.pyplot as plt\n",
    "import matplotlib.dates as mdates\n",
    "import numpy as np\n",
    "import pandas as pd\n",
    "from cloudmesh.common.StopWatch import StopWatch\n",
    "from cloudmesh.common.util import path_expand\n",
    "from cloudmesh.common.util import writefile\n",
    "from tensorflow import keras\n",
    "from pandas.plotting import register_matplotlib_converters\n",
    "from sklearn.metrics import mean_squared_error\n",
    "import math\n",
    "import platform\n",
    "import datetime as dt\n",
    "from pprint import pprint\n",
    "from configuration import read_config\n",
    "import os\n",
    "from tqdm.notebook import trange, tqdm"
   ]
  },
  {
   "cell_type": "code",
   "execution_count": 2,
   "outputs": [],
   "source": [
    "StopWatch.start('all')\n",
    "os.environ['TF_CPP_MIN_LOG_LEVEL'] = '3'  # FATAL"
   ],
   "metadata": {
    "collapsed": false,
    "pycharm": {
     "name": "#%%\n"
    }
   }
  },
  {
   "cell_type": "code",
   "execution_count": 3,
   "outputs": [
    {
     "name": "stdout",
     "output_type": "stream",
     "text": [
      "{'debug': True, 'user': 'gregor', 'node': '5090X-RTX3090', 'max_period': False, 'experiments.epoch': [1, 2, 10, 20, 30], 'experiments.gpu': ['K80', 'A100', 'V100', 'P100']}\n"
     ]
    }
   ],
   "source": [
    "config = read_config(\"config-gregor.yaml\")\n",
    "config.max_period = False\n",
    "\n",
    "print (config)\n",
    "config.debug=False\n",
    "\n",
    "epochs=[2, 10,50, 75, 100, 125, 150, 175, 200, 225]\n",
    "repeat=5\n",
    "list_of_cryptos = [\"EOS-USD\", \"BTC-USD\", \"ETH-USD\", \"DOGE-USD\"]\n",
    "#list_of_cryptos = [\"BTC-USD\"]"
   ],
   "metadata": {
    "collapsed": false,
    "pycharm": {
     "name": "#%%\n"
    }
   }
  },
  {
   "cell_type": "code",
   "execution_count": 4,
   "metadata": {
    "execution": {
     "iopub.execute_input": "2022-06-11T22:09:38.741232Z",
     "iopub.status.busy": "2022-06-11T22:09:38.741151Z",
     "iopub.status.idle": "2022-06-11T22:09:38.743906Z",
     "shell.execute_reply": "2022-06-11T22:09:38.743596Z"
    },
    "pycharm": {
     "name": "#%%\n"
    }
   },
   "outputs": [],
   "source": [
    "def create_dataset(X, y, time_steps=1):\n",
    "    Xs, ys = [], []\n",
    "    for i in range(len(X) - time_steps):\n",
    "        v = X.iloc[i:(i + time_steps)].values\n",
    "        Xs.append(v)\n",
    "        ys.append(y.iloc[i + time_steps])\n",
    "    return np.array(Xs), np.array(ys)"
   ]
  },
  {
   "cell_type": "code",
   "execution_count": 5,
   "outputs": [],
   "source": [
    "def lstm(crypto, id=0, epoch=100, output=True):\n",
    "    #\"EOS-USD\", \"DOGE-USD\",\\n\"ETH-USD\", and \"BTC-USD\"\n",
    "    # print(crypto + ' selected')\n",
    "\n",
    "    StopWatch.start(f\"total-{crypto}-{epoch}-{id}\")\n",
    "\n",
    "    # Creating desktop path to save figures to the desktop\n",
    "\n",
    "    if output:\n",
    "        pdfpath = path_expand(f\"graphics/{config.user}-{config.node}-{crypto}-{epoch}-{id}-prediction-model.pdf\")\n",
    "        pdfpath2 = path_expand(f\"graphics/{config.user}-{config.node}-{crypto}-{epoch}-{id}-prediction-model-zoomed.pdf\")\n",
    "        pdfpath3 = path_expand(f\"graphics/{config.user}-{config.node}-{crypto}-{epoch}-{id}-price.pdf\")\n",
    "        pdfpath4 = path_expand(f\"graphics/{config.user}-{config.node}-{crypto}-{epoch}-{id}-training-loss.pdf\")\n",
    "        pdfpath5 = path_expand(f\"graphics/{config.user}-{config.node}-{crypto}-{epoch}-{id}-epoch.pdf\")\n",
    "        pdfpath6 = path_expand(f\"graphics/{config.user}-{config.node}-{crypto}-{epoch}-{id}-prediction-model-zoomed.pdf\")\n",
    "\n",
    "        register_matplotlib_converters()\n",
    "\n",
    "    ticker = yf.Ticker(crypto)\n",
    "    if config.max_period:\n",
    "        data = ticker.history(start=\"2017-11-09\", end=\"2022-06-15\", interval=\"1d\")\n",
    "    else:\n",
    "        data = ticker.history(period=\"max\", interval=\"1d\")\n",
    "    # print(data)\n",
    "    # Sort the dataframe according to the date\n",
    "    data.sort_values('Date', inplace=True, ascending=True)\n",
    "\n",
    "    # Print the dataframe top\n",
    "\n",
    "    if output:\n",
    "        data.head()\n",
    "\n",
    "        # Visualization of data. Plotting the price close.\n",
    "        plt.figure(num=None, figsize=(7, 4), dpi=300, facecolor='w', edgecolor='k')\n",
    "        days = mdates.drange(data.index.min(), data.index.max() + dt.timedelta(days=1), dt.timedelta(days=1))\n",
    "        plt.gca().xaxis.set_major_formatter(mdates.DateFormatter('%Y-%m-%d'))\n",
    "        plt.gca().xaxis.set_major_locator(mdates.DayLocator(interval=200))\n",
    "        if len(days) > len(data['Close']):\n",
    "            plt.plot(days[:-1], data['Close'])\n",
    "        elif len(days) < len(data['Close']):\n",
    "            plt.plot(days, data['Close'].iloc[:-1])\n",
    "        else:\n",
    "            plt.plot(days, data['Close'])\n",
    "        plt.gcf().autofmt_xdate()\n",
    "        plt.tight_layout()\n",
    "        plt.grid()\n",
    "        plt.ylabel('Closing Price in USD')\n",
    "        plt.xlabel('Date')\n",
    "        plt.tight_layout()\n",
    "        # plt.savefig(fullpath3, dpi=300, facecolor=\"#FFFFFF\")\n",
    "        plt.savefig(pdfpath3, dpi=300)\n",
    "        plt.show()\n",
    "\n",
    "        print(data.index[0])\n",
    "\n",
    "    firstDate = data.index[0]\n",
    "    firstDateFormatted = pd.to_datetime(data.index[0], utc=False)\n",
    "\n",
    "    if output:\n",
    "        print(firstDateFormatted)\n",
    "\n",
    "    date_time_obj = firstDateFormatted.to_pydatetime()\n",
    "    trueFirstDate = date_time_obj.strftime('%m/%d/%Y')\n",
    "\n",
    "    if output:\n",
    "        print(trueFirstDate)\n",
    "        print(data.head())\n",
    "\n",
    "    # Get Close data\n",
    "    df = data[['Close']].copy()\n",
    "    # Split data into train and test\n",
    "    train, test = df.iloc[0:-200], df.iloc[-200:len(df)]\n",
    "\n",
    "    if output:\n",
    "        print(len(train), len(test))\n",
    "\n",
    "    train_max = train.max()\n",
    "    train_min = train.min()\n",
    "\n",
    "    # Normalize the dataframes\n",
    "    train = (train - train_min) / (train_max - train_min)\n",
    "    test = (test - train_min) / (train_max - train_min)\n",
    "    time_steps = 10\n",
    "\n",
    "    X_train, y_train = create_dataset(train, train.Close, time_steps)\n",
    "    X_test, y_test = create_dataset(test, test.Close, time_steps)\n",
    "\n",
    "    StopWatch.start(f\"training-{crypto}-{epoch}-{id}\")\n",
    "\n",
    "    model = keras.Sequential()\n",
    "    model.add(keras.layers.LSTM(250, input_shape=(X_train.shape[1], X_train.shape[2])))\n",
    "    model.add(keras.layers.Dropout(0.2))\n",
    "    model.add(keras.layers.Dense(1))\n",
    "    model.compile(loss='mae', optimizer='adam')\n",
    "    if output:\n",
    "        model.summary()\n",
    "\n",
    "    history = model.fit(\n",
    "        X_train, y_train,\n",
    "        epochs=epoch,\n",
    "        batch_size=32,\n",
    "        shuffle=False,\n",
    "        verbose=0\n",
    "    )\n",
    "\n",
    "\n",
    "    StopWatch.stop(f\"training-{crypto}-{epoch}-{id}\")\n",
    "\n",
    "    if output:\n",
    "        # Plotting the loss\n",
    "        plt.plot(history.history['loss'], label='train')\n",
    "        plt.legend()\n",
    "        plt.ylabel('Model Loss')\n",
    "        plt.xlabel('Number of Epochs')\n",
    "        plt.savefig(pdfpath4, dpi=300)\n",
    "        plt.show()\n",
    "\n",
    "    StopWatch.start(f\"prediction-{crypto}-{epoch}-{id}\")\n",
    "\n",
    "    y_pred = model.predict(X_test, verbose=0)\n",
    "\n",
    "    StopWatch.stop(f\"prediction-{crypto}-{epoch}-{id}\")\n",
    "\n",
    "    # Rescale the data back to the original scale\n",
    "    y_test = y_test * (train_max[0] - train_min[0]) + train_min[0]\n",
    "    y_pred = y_pred * (train_max[0] - train_min[0]) + train_min[0]\n",
    "    y_train = y_train * (train_max[0] - train_min[0]) + train_min[0]\n",
    "\n",
    "    if output:\n",
    "        # Plotting the results\n",
    "        plt.plot(np.arange(len(y_train), len(y_train) + len(y_test)), y_test.flatten(), marker='.', markersize=1,\n",
    "                 label=\"true\")\n",
    "        plt.plot(np.arange(len(y_train), len(y_train) + len(y_test)), y_pred.flatten(), 'r', marker='.', markersize=1,\n",
    "                 label=\"prediction\")\n",
    "        plt.plot(np.arange(0, len(y_train)), y_train.flatten(), 'g', marker='.', markersize=1, label=\"history\")\n",
    "        plt.ylabel('Closing Price in USD')\n",
    "        plt.xlabel('Days Since ' + trueFirstDate)\n",
    "        leg = plt.legend()\n",
    "        leg_lines = leg.get_lines()\n",
    "        leg_texts = leg.get_texts()\n",
    "        plt.setp(leg_lines, linewidth=1)\n",
    "        plt.setp(leg_texts, fontsize='x-large')\n",
    "        plt.savefig(pdfpath, dpi=300)\n",
    "        # doge plt.axis([1350, 1450, 0.14, 0.35])\n",
    "        # btc plt.axis([2490, 2650, 34000, 73000])\n",
    "        # eth plt.axis([1370, 1490, 2200, 5800])\n",
    "        # plt.axis([1440, 1500, 2, 6])\n",
    "        # plt.title('5 Epochs', fontsize=20)\n",
    "        plt.savefig(pdfpath5, dpi=300)\n",
    "        if crypto == \"EOS-USD\":\n",
    "            plt.axis([1500, 1560, 1.5, 4.2])\n",
    "            plt.savefig(pdfpath6, dpi=300)\n",
    "        elif crypto == \"BTC-USD\":\n",
    "            plt.axis([2620, 2750, 31000, 60000])\n",
    "            plt.savefig(pdfpath6, dpi=300)\n",
    "        elif crypto == \"ETH-USD\":\n",
    "            plt.axis([1500, 1600, 2200, 4000])\n",
    "            plt.savefig(pdfpath6, dpi=300)\n",
    "        elif crypto == \"DOGE-USD\":\n",
    "            plt.axis([1500, 1600, 0.09, 0.22])\n",
    "            plt.savefig(pdfpath6, dpi=300)\n",
    "\n",
    "        plt.show()\n",
    "\n",
    "        print(y_test.shape)\n",
    "        print(y_pred.shape)\n",
    "\n",
    "    ## Outputs error in United States Dollars\n",
    "    rmse = math.sqrt(mean_squared_error(y_test, y_pred))\n",
    "    StopWatch.event(f\"RMSE-{crypto}-{epoch}-{id}\", rmse)\n",
    "    #math.sqrt(mean_squared_error(y_test, y_pred))\n",
    "    ## Create a table of the error against the number of epochs\n",
    "\n",
    "    StopWatch.stop(f\"total-{crypto}-{epoch}-{id}\")\n",
    "    t = StopWatch.get(f\"total-{crypto}-{epoch}-{id}\")\n",
    "    print(f\"Root mean squared error and time {crypto}: {rmse}, {t} s\")\n",
    "\n"
   ],
   "metadata": {
    "collapsed": false,
    "pycharm": {
     "name": "#%%\n"
    }
   }
  },
  {
   "cell_type": "code",
   "execution_count": 7,
   "metadata": {
    "collapsed": false,
    "execution": {
     "iopub.execute_input": "2022-06-11T22:09:38.763168Z",
     "iopub.status.busy": "2022-06-11T22:09:38.763089Z",
     "iopub.status.idle": "2022-06-11T22:12:36.800065Z",
     "shell.execute_reply": "2022-06-11T22:12:36.799698Z"
    },
    "pycharm": {
     "name": "#%%\n"
    }
   },
   "outputs": [
    {
     "data": {
      "text/plain": "  0%|          | 0/200 [00:00<?, ?it/s]",
      "application/vnd.jupyter.widget-view+json": {
       "version_major": 2,
       "version_minor": 0,
       "model_id": "99e11a16a5c94249990ae7ecfbf57e41"
      }
     },
     "metadata": {},
     "output_type": "display_data"
    },
    {
     "name": "stdout",
     "output_type": "stream",
     "text": [
      "LSTM run 1/200, 2, EOS-USD\n",
      "Root mean squared error and time EOS-USD: 1.3779227398142606, 2.9683 s\n",
      "LSTM run 2/200, 2, EOS-USD\n",
      "Root mean squared error and time EOS-USD: 1.3419018584603597, 1.538 s\n",
      "LSTM run 3/200, 2, EOS-USD\n",
      "Root mean squared error and time EOS-USD: 1.22969363138617, 1.5417 s\n",
      "LSTM run 4/200, 2, EOS-USD\n",
      "Root mean squared error and time EOS-USD: 1.2392089728515976, 1.3965 s\n",
      "LSTM run 5/200, 2, EOS-USD\n",
      "Root mean squared error and time EOS-USD: 1.4498861674849737, 1.3764 s\n",
      "LSTM run 6/200, 2, BTC-USD\n",
      "Root mean squared error and time BTC-USD: 4852.515468266438, 1.9294 s\n",
      "LSTM run 7/200, 2, BTC-USD\n",
      "Root mean squared error and time BTC-USD: 2330.6136819056774, 1.5551 s\n",
      "LSTM run 8/200, 2, BTC-USD\n",
      "Root mean squared error and time BTC-USD: 2164.1840175732614, 1.8733 s\n",
      "LSTM run 9/200, 2, BTC-USD\n",
      "Root mean squared error and time BTC-USD: 2625.565345623837, 1.5862 s\n",
      "LSTM run 10/200, 2, BTC-USD\n",
      "Root mean squared error and time BTC-USD: 4589.455347593668, 1.778 s\n",
      "LSTM run 11/200, 2, ETH-USD\n",
      "Root mean squared error and time ETH-USD: 446.6721429670374, 1.3634 s\n",
      "LSTM run 12/200, 2, ETH-USD\n",
      "Root mean squared error and time ETH-USD: 500.36745002210375, 1.4039 s\n",
      "LSTM run 13/200, 2, ETH-USD\n",
      "Root mean squared error and time ETH-USD: 648.777440146405, 1.6503 s\n",
      "LSTM run 14/200, 2, ETH-USD\n",
      "Root mean squared error and time ETH-USD: 300.2616248862495, 1.3537 s\n",
      "LSTM run 15/200, 2, ETH-USD\n",
      "Root mean squared error and time ETH-USD: 645.243010946088, 1.3686 s\n",
      "LSTM run 16/200, 2, DOGE-USD\n",
      "Root mean squared error and time DOGE-USD: 0.013230657054665577, 1.3852 s\n",
      "LSTM run 17/200, 2, DOGE-USD\n",
      "Root mean squared error and time DOGE-USD: 0.03112120352083509, 1.7035 s\n",
      "LSTM run 18/200, 2, DOGE-USD\n",
      "Root mean squared error and time DOGE-USD: 0.03637329544552892, 1.4785 s\n",
      "LSTM run 19/200, 2, DOGE-USD\n",
      "Root mean squared error and time DOGE-USD: 0.009997747040014476, 1.4903 s\n",
      "LSTM run 20/200, 2, DOGE-USD\n",
      "Root mean squared error and time DOGE-USD: 0.05869033006431239, 1.5954 s\n",
      "LSTM run 21/200, 10, EOS-USD\n",
      "Root mean squared error and time EOS-USD: 0.7283617718598785, 2.0813 s\n",
      "LSTM run 22/200, 10, EOS-USD\n",
      "Root mean squared error and time EOS-USD: 0.1779091886947438, 2.1363 s\n",
      "LSTM run 23/200, 10, EOS-USD\n",
      "Root mean squared error and time EOS-USD: 0.257575184598103, 2.072 s\n",
      "LSTM run 24/200, 10, EOS-USD\n",
      "Root mean squared error and time EOS-USD: 0.2662786245596163, 2.4069 s\n",
      "LSTM run 25/200, 10, EOS-USD\n",
      "Root mean squared error and time EOS-USD: 0.6151957697636058, 2.3498 s\n",
      "LSTM run 26/200, 10, BTC-USD\n",
      "Root mean squared error and time BTC-USD: 1836.5716063382042, 2.9486 s\n",
      "LSTM run 27/200, 10, BTC-USD\n",
      "Root mean squared error and time BTC-USD: 1981.7427965755248, 3.0459 s\n",
      "LSTM run 28/200, 10, BTC-USD\n",
      "Root mean squared error and time BTC-USD: 2235.3965117128873, 3.124 s\n",
      "LSTM run 29/200, 10, BTC-USD\n",
      "Root mean squared error and time BTC-USD: 2406.8800160078367, 2.9935 s\n",
      "LSTM run 30/200, 10, BTC-USD\n",
      "Root mean squared error and time BTC-USD: 3258.5087154823173, 2.9036 s\n",
      "LSTM run 31/200, 10, ETH-USD\n",
      "Root mean squared error and time ETH-USD: 332.3743324983679, 2.4519 s\n",
      "LSTM run 32/200, 10, ETH-USD\n",
      "Root mean squared error and time ETH-USD: 403.524427310182, 2.3935 s\n",
      "LSTM run 33/200, 10, ETH-USD\n",
      "Root mean squared error and time ETH-USD: 381.7173013319257, 2.2045 s\n",
      "LSTM run 34/200, 10, ETH-USD\n"
     ]
    },
    {
     "ename": "KeyboardInterrupt",
     "evalue": "",
     "output_type": "error",
     "traceback": [
      "\u001B[0;31m---------------------------------------------------------------------------\u001B[0m",
      "\u001B[0;31mKeyboardInterrupt\u001B[0m                         Traceback (most recent call last)",
      "Input \u001B[0;32mIn [7]\u001B[0m, in \u001B[0;36m<cell line: 5>\u001B[0;34m()\u001B[0m\n\u001B[1;32m     11\u001B[0m pbar\u001B[38;5;241m.\u001B[39mupdate(\u001B[38;5;241m1\u001B[39m)\n\u001B[1;32m     12\u001B[0m \u001B[38;5;66;03m#print(f\"LSTM run {counter}/{n}, {epoch}, {crypto}\")\u001B[39;00m\n\u001B[0;32m---> 13\u001B[0m \u001B[43mlstm\u001B[49m\u001B[43m(\u001B[49m\u001B[43mcrypto\u001B[49m\u001B[43m,\u001B[49m\u001B[43m \u001B[49m\u001B[38;5;28;43mid\u001B[39;49m\u001B[38;5;241;43m=\u001B[39;49m\u001B[43mi\u001B[49m\u001B[43m,\u001B[49m\u001B[43m \u001B[49m\u001B[43mepoch\u001B[49m\u001B[38;5;241;43m=\u001B[39;49m\u001B[43mepoch\u001B[49m\u001B[43m,\u001B[49m\u001B[43m \u001B[49m\u001B[43moutput\u001B[49m\u001B[38;5;241;43m=\u001B[39;49m\u001B[43mconfig\u001B[49m\u001B[38;5;241;43m.\u001B[39;49m\u001B[43mdebug\u001B[49m\u001B[43m)\u001B[49m\n",
      "Input \u001B[0;32mIn [5]\u001B[0m, in \u001B[0;36mlstm\u001B[0;34m(crypto, id, epoch, output)\u001B[0m\n\u001B[1;32m     95\u001B[0m \u001B[38;5;28;01mif\u001B[39;00m output:\n\u001B[1;32m     96\u001B[0m     model\u001B[38;5;241m.\u001B[39msummary()\n\u001B[0;32m---> 98\u001B[0m history \u001B[38;5;241m=\u001B[39m \u001B[43mmodel\u001B[49m\u001B[38;5;241;43m.\u001B[39;49m\u001B[43mfit\u001B[49m\u001B[43m(\u001B[49m\n\u001B[1;32m     99\u001B[0m \u001B[43m    \u001B[49m\u001B[43mX_train\u001B[49m\u001B[43m,\u001B[49m\u001B[43m \u001B[49m\u001B[43my_train\u001B[49m\u001B[43m,\u001B[49m\n\u001B[1;32m    100\u001B[0m \u001B[43m    \u001B[49m\u001B[43mepochs\u001B[49m\u001B[38;5;241;43m=\u001B[39;49m\u001B[43mepoch\u001B[49m\u001B[43m,\u001B[49m\n\u001B[1;32m    101\u001B[0m \u001B[43m    \u001B[49m\u001B[43mbatch_size\u001B[49m\u001B[38;5;241;43m=\u001B[39;49m\u001B[38;5;241;43m32\u001B[39;49m\u001B[43m,\u001B[49m\n\u001B[1;32m    102\u001B[0m \u001B[43m    \u001B[49m\u001B[43mshuffle\u001B[49m\u001B[38;5;241;43m=\u001B[39;49m\u001B[38;5;28;43;01mFalse\u001B[39;49;00m\u001B[43m,\u001B[49m\n\u001B[1;32m    103\u001B[0m \u001B[43m    \u001B[49m\u001B[43mverbose\u001B[49m\u001B[38;5;241;43m=\u001B[39;49m\u001B[38;5;241;43m0\u001B[39;49m\n\u001B[1;32m    104\u001B[0m \u001B[43m\u001B[49m\u001B[43m)\u001B[49m\n\u001B[1;32m    107\u001B[0m StopWatch\u001B[38;5;241m.\u001B[39mstop(\u001B[38;5;124mf\u001B[39m\u001B[38;5;124m\"\u001B[39m\u001B[38;5;124mtraining-\u001B[39m\u001B[38;5;132;01m{\u001B[39;00mcrypto\u001B[38;5;132;01m}\u001B[39;00m\u001B[38;5;124m-\u001B[39m\u001B[38;5;132;01m{\u001B[39;00mepoch\u001B[38;5;132;01m}\u001B[39;00m\u001B[38;5;124m-\u001B[39m\u001B[38;5;132;01m{\u001B[39;00m\u001B[38;5;28mid\u001B[39m\u001B[38;5;132;01m}\u001B[39;00m\u001B[38;5;124m\"\u001B[39m)\n\u001B[1;32m    109\u001B[0m \u001B[38;5;28;01mif\u001B[39;00m output:\n\u001B[1;32m    110\u001B[0m     \u001B[38;5;66;03m# Plotting the loss\u001B[39;00m\n",
      "File \u001B[0;32m~/ENV3/lib/python3.10/site-packages/keras/utils/traceback_utils.py:64\u001B[0m, in \u001B[0;36mfilter_traceback.<locals>.error_handler\u001B[0;34m(*args, **kwargs)\u001B[0m\n\u001B[1;32m     62\u001B[0m filtered_tb \u001B[38;5;241m=\u001B[39m \u001B[38;5;28;01mNone\u001B[39;00m\n\u001B[1;32m     63\u001B[0m \u001B[38;5;28;01mtry\u001B[39;00m:\n\u001B[0;32m---> 64\u001B[0m   \u001B[38;5;28;01mreturn\u001B[39;00m \u001B[43mfn\u001B[49m\u001B[43m(\u001B[49m\u001B[38;5;241;43m*\u001B[39;49m\u001B[43margs\u001B[49m\u001B[43m,\u001B[49m\u001B[43m \u001B[49m\u001B[38;5;241;43m*\u001B[39;49m\u001B[38;5;241;43m*\u001B[39;49m\u001B[43mkwargs\u001B[49m\u001B[43m)\u001B[49m\n\u001B[1;32m     65\u001B[0m \u001B[38;5;28;01mexcept\u001B[39;00m \u001B[38;5;167;01mException\u001B[39;00m \u001B[38;5;28;01mas\u001B[39;00m e:  \u001B[38;5;66;03m# pylint: disable=broad-except\u001B[39;00m\n\u001B[1;32m     66\u001B[0m   filtered_tb \u001B[38;5;241m=\u001B[39m _process_traceback_frames(e\u001B[38;5;241m.\u001B[39m__traceback__)\n",
      "File \u001B[0;32m~/ENV3/lib/python3.10/site-packages/keras/engine/training.py:1409\u001B[0m, in \u001B[0;36mModel.fit\u001B[0;34m(self, x, y, batch_size, epochs, verbose, callbacks, validation_split, validation_data, shuffle, class_weight, sample_weight, initial_epoch, steps_per_epoch, validation_steps, validation_batch_size, validation_freq, max_queue_size, workers, use_multiprocessing)\u001B[0m\n\u001B[1;32m   1402\u001B[0m \u001B[38;5;28;01mwith\u001B[39;00m tf\u001B[38;5;241m.\u001B[39mprofiler\u001B[38;5;241m.\u001B[39mexperimental\u001B[38;5;241m.\u001B[39mTrace(\n\u001B[1;32m   1403\u001B[0m     \u001B[38;5;124m'\u001B[39m\u001B[38;5;124mtrain\u001B[39m\u001B[38;5;124m'\u001B[39m,\n\u001B[1;32m   1404\u001B[0m     epoch_num\u001B[38;5;241m=\u001B[39mepoch,\n\u001B[1;32m   1405\u001B[0m     step_num\u001B[38;5;241m=\u001B[39mstep,\n\u001B[1;32m   1406\u001B[0m     batch_size\u001B[38;5;241m=\u001B[39mbatch_size,\n\u001B[1;32m   1407\u001B[0m     _r\u001B[38;5;241m=\u001B[39m\u001B[38;5;241m1\u001B[39m):\n\u001B[1;32m   1408\u001B[0m   callbacks\u001B[38;5;241m.\u001B[39mon_train_batch_begin(step)\n\u001B[0;32m-> 1409\u001B[0m   tmp_logs \u001B[38;5;241m=\u001B[39m \u001B[38;5;28;43mself\u001B[39;49m\u001B[38;5;241;43m.\u001B[39;49m\u001B[43mtrain_function\u001B[49m\u001B[43m(\u001B[49m\u001B[43miterator\u001B[49m\u001B[43m)\u001B[49m\n\u001B[1;32m   1410\u001B[0m   \u001B[38;5;28;01mif\u001B[39;00m data_handler\u001B[38;5;241m.\u001B[39mshould_sync:\n\u001B[1;32m   1411\u001B[0m     context\u001B[38;5;241m.\u001B[39masync_wait()\n",
      "File \u001B[0;32m~/ENV3/lib/python3.10/site-packages/tensorflow/python/util/traceback_utils.py:150\u001B[0m, in \u001B[0;36mfilter_traceback.<locals>.error_handler\u001B[0;34m(*args, **kwargs)\u001B[0m\n\u001B[1;32m    148\u001B[0m filtered_tb \u001B[38;5;241m=\u001B[39m \u001B[38;5;28;01mNone\u001B[39;00m\n\u001B[1;32m    149\u001B[0m \u001B[38;5;28;01mtry\u001B[39;00m:\n\u001B[0;32m--> 150\u001B[0m   \u001B[38;5;28;01mreturn\u001B[39;00m \u001B[43mfn\u001B[49m\u001B[43m(\u001B[49m\u001B[38;5;241;43m*\u001B[39;49m\u001B[43margs\u001B[49m\u001B[43m,\u001B[49m\u001B[43m \u001B[49m\u001B[38;5;241;43m*\u001B[39;49m\u001B[38;5;241;43m*\u001B[39;49m\u001B[43mkwargs\u001B[49m\u001B[43m)\u001B[49m\n\u001B[1;32m    151\u001B[0m \u001B[38;5;28;01mexcept\u001B[39;00m \u001B[38;5;167;01mException\u001B[39;00m \u001B[38;5;28;01mas\u001B[39;00m e:\n\u001B[1;32m    152\u001B[0m   filtered_tb \u001B[38;5;241m=\u001B[39m _process_traceback_frames(e\u001B[38;5;241m.\u001B[39m__traceback__)\n",
      "File \u001B[0;32m~/ENV3/lib/python3.10/site-packages/tensorflow/python/eager/def_function.py:915\u001B[0m, in \u001B[0;36mFunction.__call__\u001B[0;34m(self, *args, **kwds)\u001B[0m\n\u001B[1;32m    912\u001B[0m compiler \u001B[38;5;241m=\u001B[39m \u001B[38;5;124m\"\u001B[39m\u001B[38;5;124mxla\u001B[39m\u001B[38;5;124m\"\u001B[39m \u001B[38;5;28;01mif\u001B[39;00m \u001B[38;5;28mself\u001B[39m\u001B[38;5;241m.\u001B[39m_jit_compile \u001B[38;5;28;01melse\u001B[39;00m \u001B[38;5;124m\"\u001B[39m\u001B[38;5;124mnonXla\u001B[39m\u001B[38;5;124m\"\u001B[39m\n\u001B[1;32m    914\u001B[0m \u001B[38;5;28;01mwith\u001B[39;00m OptionalXlaContext(\u001B[38;5;28mself\u001B[39m\u001B[38;5;241m.\u001B[39m_jit_compile):\n\u001B[0;32m--> 915\u001B[0m   result \u001B[38;5;241m=\u001B[39m \u001B[38;5;28;43mself\u001B[39;49m\u001B[38;5;241;43m.\u001B[39;49m\u001B[43m_call\u001B[49m\u001B[43m(\u001B[49m\u001B[38;5;241;43m*\u001B[39;49m\u001B[43margs\u001B[49m\u001B[43m,\u001B[49m\u001B[43m \u001B[49m\u001B[38;5;241;43m*\u001B[39;49m\u001B[38;5;241;43m*\u001B[39;49m\u001B[43mkwds\u001B[49m\u001B[43m)\u001B[49m\n\u001B[1;32m    917\u001B[0m new_tracing_count \u001B[38;5;241m=\u001B[39m \u001B[38;5;28mself\u001B[39m\u001B[38;5;241m.\u001B[39mexperimental_get_tracing_count()\n\u001B[1;32m    918\u001B[0m without_tracing \u001B[38;5;241m=\u001B[39m (tracing_count \u001B[38;5;241m==\u001B[39m new_tracing_count)\n",
      "File \u001B[0;32m~/ENV3/lib/python3.10/site-packages/tensorflow/python/eager/def_function.py:947\u001B[0m, in \u001B[0;36mFunction._call\u001B[0;34m(self, *args, **kwds)\u001B[0m\n\u001B[1;32m    944\u001B[0m   \u001B[38;5;28mself\u001B[39m\u001B[38;5;241m.\u001B[39m_lock\u001B[38;5;241m.\u001B[39mrelease()\n\u001B[1;32m    945\u001B[0m   \u001B[38;5;66;03m# In this case we have created variables on the first call, so we run the\u001B[39;00m\n\u001B[1;32m    946\u001B[0m   \u001B[38;5;66;03m# defunned version which is guaranteed to never create variables.\u001B[39;00m\n\u001B[0;32m--> 947\u001B[0m   \u001B[38;5;28;01mreturn\u001B[39;00m \u001B[38;5;28;43mself\u001B[39;49m\u001B[38;5;241;43m.\u001B[39;49m\u001B[43m_stateless_fn\u001B[49m\u001B[43m(\u001B[49m\u001B[38;5;241;43m*\u001B[39;49m\u001B[43margs\u001B[49m\u001B[43m,\u001B[49m\u001B[43m \u001B[49m\u001B[38;5;241;43m*\u001B[39;49m\u001B[38;5;241;43m*\u001B[39;49m\u001B[43mkwds\u001B[49m\u001B[43m)\u001B[49m  \u001B[38;5;66;03m# pylint: disable=not-callable\u001B[39;00m\n\u001B[1;32m    948\u001B[0m \u001B[38;5;28;01melif\u001B[39;00m \u001B[38;5;28mself\u001B[39m\u001B[38;5;241m.\u001B[39m_stateful_fn \u001B[38;5;129;01mis\u001B[39;00m \u001B[38;5;129;01mnot\u001B[39;00m \u001B[38;5;28;01mNone\u001B[39;00m:\n\u001B[1;32m    949\u001B[0m   \u001B[38;5;66;03m# Release the lock early so that multiple threads can perform the call\u001B[39;00m\n\u001B[1;32m    950\u001B[0m   \u001B[38;5;66;03m# in parallel.\u001B[39;00m\n\u001B[1;32m    951\u001B[0m   \u001B[38;5;28mself\u001B[39m\u001B[38;5;241m.\u001B[39m_lock\u001B[38;5;241m.\u001B[39mrelease()\n",
      "File \u001B[0;32m~/ENV3/lib/python3.10/site-packages/tensorflow/python/eager/function.py:2453\u001B[0m, in \u001B[0;36mFunction.__call__\u001B[0;34m(self, *args, **kwargs)\u001B[0m\n\u001B[1;32m   2450\u001B[0m \u001B[38;5;28;01mwith\u001B[39;00m \u001B[38;5;28mself\u001B[39m\u001B[38;5;241m.\u001B[39m_lock:\n\u001B[1;32m   2451\u001B[0m   (graph_function,\n\u001B[1;32m   2452\u001B[0m    filtered_flat_args) \u001B[38;5;241m=\u001B[39m \u001B[38;5;28mself\u001B[39m\u001B[38;5;241m.\u001B[39m_maybe_define_function(args, kwargs)\n\u001B[0;32m-> 2453\u001B[0m \u001B[38;5;28;01mreturn\u001B[39;00m \u001B[43mgraph_function\u001B[49m\u001B[38;5;241;43m.\u001B[39;49m\u001B[43m_call_flat\u001B[49m\u001B[43m(\u001B[49m\n\u001B[1;32m   2454\u001B[0m \u001B[43m    \u001B[49m\u001B[43mfiltered_flat_args\u001B[49m\u001B[43m,\u001B[49m\u001B[43m \u001B[49m\u001B[43mcaptured_inputs\u001B[49m\u001B[38;5;241;43m=\u001B[39;49m\u001B[43mgraph_function\u001B[49m\u001B[38;5;241;43m.\u001B[39;49m\u001B[43mcaptured_inputs\u001B[49m\u001B[43m)\u001B[49m\n",
      "File \u001B[0;32m~/ENV3/lib/python3.10/site-packages/tensorflow/python/eager/function.py:1860\u001B[0m, in \u001B[0;36mConcreteFunction._call_flat\u001B[0;34m(self, args, captured_inputs, cancellation_manager)\u001B[0m\n\u001B[1;32m   1856\u001B[0m possible_gradient_type \u001B[38;5;241m=\u001B[39m gradients_util\u001B[38;5;241m.\u001B[39mPossibleTapeGradientTypes(args)\n\u001B[1;32m   1857\u001B[0m \u001B[38;5;28;01mif\u001B[39;00m (possible_gradient_type \u001B[38;5;241m==\u001B[39m gradients_util\u001B[38;5;241m.\u001B[39mPOSSIBLE_GRADIENT_TYPES_NONE\n\u001B[1;32m   1858\u001B[0m     \u001B[38;5;129;01mand\u001B[39;00m executing_eagerly):\n\u001B[1;32m   1859\u001B[0m   \u001B[38;5;66;03m# No tape is watching; skip to running the function.\u001B[39;00m\n\u001B[0;32m-> 1860\u001B[0m   \u001B[38;5;28;01mreturn\u001B[39;00m \u001B[38;5;28mself\u001B[39m\u001B[38;5;241m.\u001B[39m_build_call_outputs(\u001B[38;5;28;43mself\u001B[39;49m\u001B[38;5;241;43m.\u001B[39;49m\u001B[43m_inference_function\u001B[49m\u001B[38;5;241;43m.\u001B[39;49m\u001B[43mcall\u001B[49m\u001B[43m(\u001B[49m\n\u001B[1;32m   1861\u001B[0m \u001B[43m      \u001B[49m\u001B[43mctx\u001B[49m\u001B[43m,\u001B[49m\u001B[43m \u001B[49m\u001B[43margs\u001B[49m\u001B[43m,\u001B[49m\u001B[43m \u001B[49m\u001B[43mcancellation_manager\u001B[49m\u001B[38;5;241;43m=\u001B[39;49m\u001B[43mcancellation_manager\u001B[49m\u001B[43m)\u001B[49m)\n\u001B[1;32m   1862\u001B[0m forward_backward \u001B[38;5;241m=\u001B[39m \u001B[38;5;28mself\u001B[39m\u001B[38;5;241m.\u001B[39m_select_forward_and_backward_functions(\n\u001B[1;32m   1863\u001B[0m     args,\n\u001B[1;32m   1864\u001B[0m     possible_gradient_type,\n\u001B[1;32m   1865\u001B[0m     executing_eagerly)\n\u001B[1;32m   1866\u001B[0m forward_function, args_with_tangents \u001B[38;5;241m=\u001B[39m forward_backward\u001B[38;5;241m.\u001B[39mforward()\n",
      "File \u001B[0;32m~/ENV3/lib/python3.10/site-packages/tensorflow/python/eager/function.py:497\u001B[0m, in \u001B[0;36m_EagerDefinedFunction.call\u001B[0;34m(self, ctx, args, cancellation_manager)\u001B[0m\n\u001B[1;32m    495\u001B[0m \u001B[38;5;28;01mwith\u001B[39;00m _InterpolateFunctionError(\u001B[38;5;28mself\u001B[39m):\n\u001B[1;32m    496\u001B[0m   \u001B[38;5;28;01mif\u001B[39;00m cancellation_manager \u001B[38;5;129;01mis\u001B[39;00m \u001B[38;5;28;01mNone\u001B[39;00m:\n\u001B[0;32m--> 497\u001B[0m     outputs \u001B[38;5;241m=\u001B[39m \u001B[43mexecute\u001B[49m\u001B[38;5;241;43m.\u001B[39;49m\u001B[43mexecute\u001B[49m\u001B[43m(\u001B[49m\n\u001B[1;32m    498\u001B[0m \u001B[43m        \u001B[49m\u001B[38;5;28;43mstr\u001B[39;49m\u001B[43m(\u001B[49m\u001B[38;5;28;43mself\u001B[39;49m\u001B[38;5;241;43m.\u001B[39;49m\u001B[43msignature\u001B[49m\u001B[38;5;241;43m.\u001B[39;49m\u001B[43mname\u001B[49m\u001B[43m)\u001B[49m\u001B[43m,\u001B[49m\n\u001B[1;32m    499\u001B[0m \u001B[43m        \u001B[49m\u001B[43mnum_outputs\u001B[49m\u001B[38;5;241;43m=\u001B[39;49m\u001B[38;5;28;43mself\u001B[39;49m\u001B[38;5;241;43m.\u001B[39;49m\u001B[43m_num_outputs\u001B[49m\u001B[43m,\u001B[49m\n\u001B[1;32m    500\u001B[0m \u001B[43m        \u001B[49m\u001B[43minputs\u001B[49m\u001B[38;5;241;43m=\u001B[39;49m\u001B[43margs\u001B[49m\u001B[43m,\u001B[49m\n\u001B[1;32m    501\u001B[0m \u001B[43m        \u001B[49m\u001B[43mattrs\u001B[49m\u001B[38;5;241;43m=\u001B[39;49m\u001B[43mattrs\u001B[49m\u001B[43m,\u001B[49m\n\u001B[1;32m    502\u001B[0m \u001B[43m        \u001B[49m\u001B[43mctx\u001B[49m\u001B[38;5;241;43m=\u001B[39;49m\u001B[43mctx\u001B[49m\u001B[43m)\u001B[49m\n\u001B[1;32m    503\u001B[0m   \u001B[38;5;28;01melse\u001B[39;00m:\n\u001B[1;32m    504\u001B[0m     outputs \u001B[38;5;241m=\u001B[39m execute\u001B[38;5;241m.\u001B[39mexecute_with_cancellation(\n\u001B[1;32m    505\u001B[0m         \u001B[38;5;28mstr\u001B[39m(\u001B[38;5;28mself\u001B[39m\u001B[38;5;241m.\u001B[39msignature\u001B[38;5;241m.\u001B[39mname),\n\u001B[1;32m    506\u001B[0m         num_outputs\u001B[38;5;241m=\u001B[39m\u001B[38;5;28mself\u001B[39m\u001B[38;5;241m.\u001B[39m_num_outputs,\n\u001B[0;32m   (...)\u001B[0m\n\u001B[1;32m    509\u001B[0m         ctx\u001B[38;5;241m=\u001B[39mctx,\n\u001B[1;32m    510\u001B[0m         cancellation_manager\u001B[38;5;241m=\u001B[39mcancellation_manager)\n",
      "File \u001B[0;32m~/ENV3/lib/python3.10/site-packages/tensorflow/python/eager/execute.py:54\u001B[0m, in \u001B[0;36mquick_execute\u001B[0;34m(op_name, num_outputs, inputs, attrs, ctx, name)\u001B[0m\n\u001B[1;32m     52\u001B[0m \u001B[38;5;28;01mtry\u001B[39;00m:\n\u001B[1;32m     53\u001B[0m   ctx\u001B[38;5;241m.\u001B[39mensure_initialized()\n\u001B[0;32m---> 54\u001B[0m   tensors \u001B[38;5;241m=\u001B[39m \u001B[43mpywrap_tfe\u001B[49m\u001B[38;5;241;43m.\u001B[39;49m\u001B[43mTFE_Py_Execute\u001B[49m\u001B[43m(\u001B[49m\u001B[43mctx\u001B[49m\u001B[38;5;241;43m.\u001B[39;49m\u001B[43m_handle\u001B[49m\u001B[43m,\u001B[49m\u001B[43m \u001B[49m\u001B[43mdevice_name\u001B[49m\u001B[43m,\u001B[49m\u001B[43m \u001B[49m\u001B[43mop_name\u001B[49m\u001B[43m,\u001B[49m\n\u001B[1;32m     55\u001B[0m \u001B[43m                                      \u001B[49m\u001B[43minputs\u001B[49m\u001B[43m,\u001B[49m\u001B[43m \u001B[49m\u001B[43mattrs\u001B[49m\u001B[43m,\u001B[49m\u001B[43m \u001B[49m\u001B[43mnum_outputs\u001B[49m\u001B[43m)\u001B[49m\n\u001B[1;32m     56\u001B[0m \u001B[38;5;28;01mexcept\u001B[39;00m core\u001B[38;5;241m.\u001B[39m_NotOkStatusException \u001B[38;5;28;01mas\u001B[39;00m e:\n\u001B[1;32m     57\u001B[0m   \u001B[38;5;28;01mif\u001B[39;00m name \u001B[38;5;129;01mis\u001B[39;00m \u001B[38;5;129;01mnot\u001B[39;00m \u001B[38;5;28;01mNone\u001B[39;00m:\n",
      "\u001B[0;31mKeyboardInterrupt\u001B[0m: "
     ]
    }
   ],
   "source": [
    "\n",
    "# list_of_cryptos = [\"EOS-USD\"]\n",
    "\n",
    "n = len(epochs) * len(list_of_cryptos) * repeat\n",
    "counter = 0\n",
    "with tqdm(total=n) as pbar:\n",
    "    for epoch in epochs:\n",
    "        for crypto in list_of_cryptos:\n",
    "            for i in range(0,repeat):\n",
    "                counter = counter + 1\n",
    "                pbar.write(f\"LSTM run {counter}/{n}, {epoch}, {crypto}\")\n",
    "                pbar.update(1)\n",
    "                #print(f\"LSTM run {counter}/{n}, {epoch}, {crypto}\")\n",
    "                lstm(crypto, id=i, epoch=epoch, output=config.debug)\n"
   ]
  },
  {
   "cell_type": "code",
   "execution_count": null,
   "outputs": [],
   "source": [
    "\n",
    "StopWatch.stop('all')\n",
    "benchmark_filename = f\"benchmarks/btc-{config.user}-{config.node}.log\"\n",
    "# StopWatch.benchmark(user=config.user, node=config.node, tag=crypto)\n",
    "StopWatch.benchmark(filename=benchmark_filename, user=config.user, node=config.node, tag=crypto)\n"
   ],
   "metadata": {
    "collapsed": false,
    "pycharm": {
     "name": "#%%\n"
    }
   }
  },
  {
   "cell_type": "code",
   "execution_count": null,
   "outputs": [],
   "source": [
    "from cloudmesh.common.StopWatch import StopWatch"
   ],
   "metadata": {
    "collapsed": false,
    "pycharm": {
     "name": "#%%\n"
    }
   }
  },
  {
   "cell_type": "code",
   "execution_count": null,
   "outputs": [],
   "source": [
    "StopWatch.benchmark(sysinfo=True)"
   ],
   "metadata": {
    "collapsed": false,
    "pycharm": {
     "name": "#%%\n"
    }
   }
  },
  {
   "cell_type": "code",
   "execution_count": null,
   "outputs": [],
   "source": [],
   "metadata": {
    "collapsed": false,
    "pycharm": {
     "name": "#%%\n"
    }
   }
  }
 ],
 "metadata": {
  "kernelspec": {
   "display_name": "Python 3",
   "language": "python",
   "name": "python3"
  },
  "language_info": {
   "codemirror_mode": {
    "name": "ipython",
    "version": 3
   },
   "file_extension": ".py",
   "mimetype": "text/x-python",
   "name": "python",
   "nbconvert_exporter": "python",
   "pygments_lexer": "ipython3",
   "version": "3.10.5"
  }
 },
 "nbformat": 4,
 "nbformat_minor": 1
}