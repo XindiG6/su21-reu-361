{
 "metadata": {
  "language_info": {
   "codemirror_mode": {
    "name": "ipython",
    "version": 3
   },
   "file_extension": ".py",
   "mimetype": "text/x-python",
   "name": "python",
   "nbconvert_exporter": "python",
   "pygments_lexer": "ipython3",
   "version": 3
  },
  "orig_nbformat": 4
 },
 "nbformat": 4,
 "nbformat_minor": 2,
 "cells": [
  {
   "cell_type": "code",
   "execution_count": null,
   "metadata": {},
   "outputs": [],
   "source": [
    "import time\n",
    "from pprint import pprint\n",
    "\n",
    "from cloudmesh.common.StopWatch import StopWatch\n",
    "from cloudmesh.common.debug import VERBOSE\n",
    "\n",
    "a = {\"value\": 2, \"name\": \"John\", \"name1\": \"Carlos\", \"name2\": \"John\", \"name3\": \"John\", \"name4\": \"John\", \"name5\": \"John\"}\n",
    "\n",
    "StopWatch.start(\"Hello World\")\n",
    "\n",
    "print(\"Hello World\")\n",
    "time.sleep(0.2)\n",
    "StopWatch.stop(\"Hello World\")\n",
    "\n",
    "StopWatch.start(\"xyz\")\n",
    "time.sleep(0.1)\n",
    "print(\"xyz\")\n",
    "\n",
    "StopWatch.stop(\"xyz\")\n",
    "\n",
    "StopWatch.benchmark()\n",
    "print(a)\n",
    "pprint(a)\n",
    "VERBOSE(a)\n"
   ]
  }
 ]
}