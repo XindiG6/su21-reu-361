{
 "cells": [
  {
   "cell_type": "code",
   "execution_count": 1,
   "metadata": {
    "collapsed": false,
    "execution": {
     "iopub.execute_input": "2022-06-11T22:09:28.567470Z",
     "iopub.status.busy": "2022-06-11T22:09:28.567193Z",
     "iopub.status.idle": "2022-06-11T22:09:38.739653Z",
     "shell.execute_reply": "2022-06-11T22:09:38.739414Z"
    },
    "pycharm": {
     "name": "#%%\n"
    }
   },
   "outputs": [],
   "source": [
    "import yfinance as yf\n",
    "import matplotlib.pyplot as plt\n",
    "import matplotlib.dates as mdates\n",
    "import numpy as np\n",
    "import pandas as pd\n",
    "from cloudmesh.common.StopWatch import StopWatch\n",
    "from cloudmesh.common.util import path_expand\n",
    "from cloudmesh.common.util import writefile\n",
    "from tensorflow import keras\n",
    "from pandas.plotting import register_matplotlib_converters\n",
    "from sklearn.metrics import mean_squared_error\n",
    "import math\n",
    "import platform\n",
    "import datetime as dt\n",
    "from pprint import pprint\n",
    "from configuration import read_config\n",
    "import os"
   ]
  },
  {
   "cell_type": "code",
   "execution_count": 2,
   "outputs": [],
   "source": [
    "os.environ['TF_CPP_MIN_LOG_LEVEL'] = '3'  # FATAL"
   ],
   "metadata": {
    "collapsed": false,
    "pycharm": {
     "name": "#%%\n"
    }
   }
  },
  {
   "cell_type": "code",
   "execution_count": 3,
   "outputs": [
    {
     "name": "stdout",
     "output_type": "stream",
     "text": [
      "{'debug': True, 'user': 'gregor', 'node': '5090X-RTX3090', 'experiments.epoch': [1, 2, 10, 20, 30], 'experiments.gpu': ['K80', 'A100', 'V100', 'P100']}\n"
     ]
    }
   ],
   "source": [
    "config = read_config(\"config-gregor.yaml\")\n",
    "\n",
    "# config.debug = False\n",
    "print (config)\n",
    "config.debug=False\n",
    "\n",
    "epochs=[2, 10,50, 75, 100, 125, 150, 175, 200, 225]\n",
    "repeat=5"
   ],
   "metadata": {
    "collapsed": false,
    "pycharm": {
     "name": "#%%\n"
    }
   }
  },
  {
   "cell_type": "code",
   "execution_count": 4,
   "metadata": {
    "execution": {
     "iopub.execute_input": "2022-06-11T22:09:38.741232Z",
     "iopub.status.busy": "2022-06-11T22:09:38.741151Z",
     "iopub.status.idle": "2022-06-11T22:09:38.743906Z",
     "shell.execute_reply": "2022-06-11T22:09:38.743596Z"
    },
    "pycharm": {
     "name": "#%%\n"
    }
   },
   "outputs": [],
   "source": [
    "def create_dataset(X, y, time_steps=1):\n",
    "    Xs, ys = [], []\n",
    "    for i in range(len(X) - time_steps):\n",
    "        v = X.iloc[i:(i + time_steps)].values\n",
    "        Xs.append(v)\n",
    "        ys.append(y.iloc[i + time_steps])\n",
    "    return np.array(Xs), np.array(ys)"
   ]
  },
  {
   "cell_type": "code",
   "execution_count": 5,
   "outputs": [],
   "source": [
    "def lstm(crypto, id=0, epoch=100, output=True):\n",
    "    #\"EOS-USD\", \"DOGE-USD\",\\n\"ETH-USD\", and \"BTC-USD\"\n",
    "    # print(crypto + ' selected')\n",
    "\n",
    "    StopWatch.start(f\"total-{crypto}-{epoch}-{id}\")\n",
    "\n",
    "    # Creating desktop path to save figures to the desktop\n",
    "\n",
    "    if output:\n",
    "        pdfpath = path_expand(f\"graphics/{config.user}-{config.node}-{crypto}-{epoch}-{id}-prediction-model.pdf\")\n",
    "        pdfpath2 = path_expand(f\"graphics/{config.user}-{config.node}-{crypto}-{epoch}-{id}-prediction-model-zoomed.pdf\")\n",
    "        pdfpath3 = path_expand(f\"graphics/{config.user}-{config.node}-{crypto}-{epoch}-{id}-price.pdf\")\n",
    "        pdfpath4 = path_expand(f\"graphics/{config.user}-{config.node}-{crypto}-{epoch}-{id}-training-loss.pdf\")\n",
    "        pdfpath5 = path_expand(f\"graphics/{config.user}-{config.node}-{crypto}-{epoch}-{id}-epoch.pdf\")\n",
    "        pdfpath6 = path_expand(f\"graphics/{config.user}-{config.node}-{crypto}-{epoch}-{id}-prediction-model-zoomed.pdf\")\n",
    "\n",
    "        register_matplotlib_converters()\n",
    "\n",
    "    ticker = yf.Ticker(crypto)\n",
    "    data = ticker.history(period=\"max\", interval=\"1d\")\n",
    "    # print(data)\n",
    "    # Sort the dataframe according to the date\n",
    "    data.sort_values('Date', inplace=True, ascending=True)\n",
    "\n",
    "    # Print the dataframe top\n",
    "\n",
    "    if output:\n",
    "        data.head()\n",
    "\n",
    "        # Visualization of data. Plotting the price close.\n",
    "        plt.figure(num=None, figsize=(7, 4), dpi=300, facecolor='w', edgecolor='k')\n",
    "        days = mdates.drange(data.index.min(), data.index.max() + dt.timedelta(days=1), dt.timedelta(days=1))\n",
    "        plt.gca().xaxis.set_major_formatter(mdates.DateFormatter('%Y-%m-%d'))\n",
    "        plt.gca().xaxis.set_major_locator(mdates.DayLocator(interval=200))\n",
    "        if len(days) > len(data['Close']):\n",
    "            plt.plot(days[:-1], data['Close'])\n",
    "        elif len(days) < len(data['Close']):\n",
    "            plt.plot(days, data['Close'].iloc[:-1])\n",
    "        else:\n",
    "            plt.plot(days, data['Close'])\n",
    "        plt.gcf().autofmt_xdate()\n",
    "        plt.tight_layout()\n",
    "        plt.grid()\n",
    "        plt.ylabel('Closing Price in USD')\n",
    "        plt.xlabel('Date')\n",
    "        plt.tight_layout()\n",
    "        # plt.savefig(fullpath3, dpi=300, facecolor=\"#FFFFFF\")\n",
    "        plt.savefig(pdfpath3, dpi=300)\n",
    "        plt.show()\n",
    "\n",
    "        print(data.index[0])\n",
    "\n",
    "    firstDate = data.index[0]\n",
    "    firstDateFormatted = pd.to_datetime(data.index[0], utc=False)\n",
    "\n",
    "    if output:\n",
    "        print(firstDateFormatted)\n",
    "\n",
    "    date_time_obj = firstDateFormatted.to_pydatetime()\n",
    "    trueFirstDate = date_time_obj.strftime('%m/%d/%Y')\n",
    "\n",
    "    if output:\n",
    "        print(trueFirstDate)\n",
    "        print(data.head())\n",
    "\n",
    "    # Get Close data\n",
    "    df = data[['Close']].copy()\n",
    "    # Split data into train and test\n",
    "    train, test = df.iloc[0:-200], df.iloc[-200:len(df)]\n",
    "\n",
    "    if output:\n",
    "        print(len(train), len(test))\n",
    "\n",
    "    train_max = train.max()\n",
    "    train_min = train.min()\n",
    "\n",
    "    # Normalize the dataframes\n",
    "    train = (train - train_min) / (train_max - train_min)\n",
    "    test = (test - train_min) / (train_max - train_min)\n",
    "    time_steps = 10\n",
    "\n",
    "    X_train, y_train = create_dataset(train, train.Close, time_steps)\n",
    "    X_test, y_test = create_dataset(test, test.Close, time_steps)\n",
    "\n",
    "    StopWatch.start(f\"training-{crypto}-{epoch}-{id}\")\n",
    "\n",
    "    model = keras.Sequential()\n",
    "    model.add(keras.layers.LSTM(250, input_shape=(X_train.shape[1], X_train.shape[2])))\n",
    "    model.add(keras.layers.Dropout(0.2))\n",
    "    model.add(keras.layers.Dense(1))\n",
    "    model.compile(loss='mae', optimizer='adam')\n",
    "    if output:\n",
    "        model.summary()\n",
    "\n",
    "    history = model.fit(\n",
    "        X_train, y_train,\n",
    "        epochs=epoch,\n",
    "        batch_size=32,\n",
    "        shuffle=False,\n",
    "        verbose=0\n",
    "    )\n",
    "\n",
    "    StopWatch.stop(f\"training-{crypto}-{epoch}-{id}\")\n",
    "\n",
    "    if output:\n",
    "        # Plotting the loss\n",
    "        plt.plot(history.history['loss'], label='train')\n",
    "        plt.legend()\n",
    "        plt.ylabel('Model Loss')\n",
    "        plt.xlabel('Number of Epochs')\n",
    "        plt.savefig(pdfpath4, dpi=300)\n",
    "        plt.show()\n",
    "\n",
    "    StopWatch.start(f\"prediction-{crypto}-{epoch}-{id}\")\n",
    "\n",
    "    y_pred = model.predict(X_test)\n",
    "\n",
    "    StopWatch.stop(f\"prediction-{crypto}-{epoch}-{id}\")\n",
    "\n",
    "    # Rescale the data back to the original scale\n",
    "    y_test = y_test * (train_max[0] - train_min[0]) + train_min[0]\n",
    "    y_pred = y_pred * (train_max[0] - train_min[0]) + train_min[0]\n",
    "    y_train = y_train * (train_max[0] - train_min[0]) + train_min[0]\n",
    "\n",
    "    if output:\n",
    "        # Plotting the results\n",
    "        plt.plot(np.arange(len(y_train), len(y_train) + len(y_test)), y_test.flatten(), marker='.', markersize=1,\n",
    "                 label=\"true\")\n",
    "        plt.plot(np.arange(len(y_train), len(y_train) + len(y_test)), y_pred.flatten(), 'r', marker='.', markersize=1,\n",
    "                 label=\"prediction\")\n",
    "        plt.plot(np.arange(0, len(y_train)), y_train.flatten(), 'g', marker='.', markersize=1, label=\"history\")\n",
    "        plt.ylabel('Closing Price in USD')\n",
    "        plt.xlabel('Days Since ' + trueFirstDate)\n",
    "        leg = plt.legend()\n",
    "        leg_lines = leg.get_lines()\n",
    "        leg_texts = leg.get_texts()\n",
    "        plt.setp(leg_lines, linewidth=1)\n",
    "        plt.setp(leg_texts, fontsize='x-large')\n",
    "        plt.savefig(pdfpath, dpi=300)\n",
    "        # doge plt.axis([1350, 1450, 0.14, 0.35])\n",
    "        # btc plt.axis([2490, 2650, 34000, 73000])\n",
    "        # eth plt.axis([1370, 1490, 2200, 5800])\n",
    "        # plt.axis([1440, 1500, 2, 6])\n",
    "        # plt.title('5 Epochs', fontsize=20)\n",
    "        plt.savefig(pdfpath5, dpi=300)\n",
    "        if crypto == \"EOS-USD\":\n",
    "            plt.axis([1500, 1560, 1.5, 4.2])\n",
    "            plt.savefig(pdfpath6, dpi=300)\n",
    "        elif crypto == \"BTC-USD\":\n",
    "            plt.axis([2620, 2750, 31000, 60000])\n",
    "            plt.savefig(pdfpath6, dpi=300)\n",
    "        elif crypto == \"ETH-USD\":\n",
    "            plt.axis([1500, 1600, 2200, 4000])\n",
    "            plt.savefig(pdfpath6, dpi=300)\n",
    "        elif crypto == \"DOGE-USD\":\n",
    "            plt.axis([1500, 1600, 0.09, 0.22])\n",
    "            plt.savefig(pdfpath6, dpi=300)\n",
    "\n",
    "        plt.show()\n",
    "\n",
    "        print(y_test.shape)\n",
    "        print(y_pred.shape)\n",
    "\n",
    "    ## Outputs error in United States Dollars\n",
    "    rmse = math.sqrt(mean_squared_error(y_test, y_pred))\n",
    "    StopWatch.event(f\"RMSE-{crypto}-{epoch}-{id}\", rmse)\n",
    "    #math.sqrt(mean_squared_error(y_test, y_pred))\n",
    "    ## Create a table of the error against the number of epochs\n",
    "\n",
    "    StopWatch.stop(f\"total-{crypto}-{epoch}-{id}\")\n",
    "    t = StopWatch.get(f\"total-{crypto}-{epoch}-{id}\")\n",
    "    print(f\"Root mean squared error and time {crypto}: {rmse}, {t} s\")\n",
    "\n"
   ],
   "metadata": {
    "collapsed": false,
    "pycharm": {
     "name": "#%%\n"
    }
   }
  },
  {
   "cell_type": "code",
   "execution_count": null,
   "metadata": {
    "collapsed": false,
    "execution": {
     "iopub.execute_input": "2022-06-11T22:09:38.763168Z",
     "iopub.status.busy": "2022-06-11T22:09:38.763089Z",
     "iopub.status.idle": "2022-06-11T22:12:36.800065Z",
     "shell.execute_reply": "2022-06-11T22:12:36.799698Z"
    },
    "pycharm": {
     "name": "#%%\n",
     "is_executing": true
    }
   },
   "outputs": [
    {
     "name": "stdout",
     "output_type": "stream",
     "text": [
      "LSTM run 1/200, 2, EOS-USD\n",
      "6/6 [==============================] - 0s 1ms/step\n",
      "Root mean squared error and time EOS-USD: 1.3022665740837391, 2.7203 s\n",
      "LSTM run 2/200, 2, EOS-USD\n",
      "6/6 [==============================] - 0s 1ms/step\n",
      "Root mean squared error and time EOS-USD: 1.4297199489148429, 1.491 s\n",
      "LSTM run 3/200, 2, EOS-USD\n",
      "6/6 [==============================] - 0s 2ms/step\n",
      "Root mean squared error and time EOS-USD: 1.3913106290338542, 1.3524 s\n",
      "LSTM run 4/200, 2, EOS-USD\n",
      "6/6 [==============================] - 0s 2ms/step\n",
      "Root mean squared error and time EOS-USD: 1.3637975358175436, 1.6921 s\n",
      "LSTM run 5/200, 2, EOS-USD\n",
      "6/6 [==============================] - 0s 1ms/step\n",
      "Root mean squared error and time EOS-USD: 1.1265303747109205, 1.5335 s\n",
      "LSTM run 6/200, 2, BTC-USD\n",
      "6/6 [==============================] - 0s 1ms/step\n",
      "Root mean squared error and time BTC-USD: 3249.7020730383624, 1.6343 s\n",
      "LSTM run 7/200, 2, BTC-USD\n",
      "6/6 [==============================] - 0s 1ms/step\n",
      "Root mean squared error and time BTC-USD: 2309.3723801713836, 1.9398 s\n",
      "LSTM run 8/200, 2, BTC-USD\n",
      "6/6 [==============================] - 0s 1ms/step\n",
      "Root mean squared error and time BTC-USD: 2204.8638487394837, 1.7771 s\n",
      "LSTM run 9/200, 2, BTC-USD\n",
      "6/6 [==============================] - 0s 2ms/step\n",
      "Root mean squared error and time BTC-USD: 3239.8997654366203, 1.5891 s\n",
      "LSTM run 10/200, 2, BTC-USD\n",
      "6/6 [==============================] - 0s 1ms/step\n",
      "Root mean squared error and time BTC-USD: 4497.017054255976, 1.6724 s\n",
      "LSTM run 11/200, 2, ETH-USD\n",
      "6/6 [==============================] - 0s 1ms/step\n",
      "Root mean squared error and time ETH-USD: 429.6680714093185, 1.532 s\n",
      "LSTM run 12/200, 2, ETH-USD\n",
      "6/6 [==============================] - 0s 1ms/step\n",
      "Root mean squared error and time ETH-USD: 728.6720430723121, 1.4379 s\n",
      "LSTM run 13/200, 2, ETH-USD\n"
     ]
    }
   ],
   "source": [
    "list_of_cryptos = [\"EOS-USD\", \"BTC-USD\", \"ETH-USD\", \"DOGE-USD\"]\n",
    "# list_of_cryptos = [\"EOS-USD\"]\n",
    "\n",
    "n = len(epochs) * len(list_of_cryptos) * repeat\n",
    "counter = 0\n",
    "for epoch in epochs:\n",
    "    for crypto in list_of_cryptos:\n",
    "        for i in range(0,repeat):\n",
    "            counter = counter + 1\n",
    "            print(f\"LSTM run {counter}/{n}, {epoch}, {crypto}\")\n",
    "            lstm(crypto, id=i, epoch=epoch, output=config.debug)\n"
   ]
  },
  {
   "cell_type": "code",
   "execution_count": null,
   "outputs": [],
   "source": [
    "\n",
    "benchmark_filename = f\"benchmarks/{config.user}-{config.node}-{config.user}-{config.node}.log\"\n",
    "# StopWatch.benchmark(user=config.user, node=config.node, tag=crypto)\n",
    "StopWatch.benchmark(filename=benchmark_filename, user=config.user, node=config.node, tag=crypto)\n"
   ],
   "metadata": {
    "collapsed": false,
    "pycharm": {
     "name": "#%%\n",
     "is_executing": true
    }
   }
  },
  {
   "cell_type": "code",
   "execution_count": null,
   "outputs": [],
   "source": [],
   "metadata": {
    "collapsed": false,
    "pycharm": {
     "name": "#%%\n",
     "is_executing": true
    }
   }
  }
 ],
 "metadata": {
  "kernelspec": {
   "display_name": "Python 3",
   "language": "python",
   "name": "python3"
  },
  "language_info": {
   "codemirror_mode": {
    "name": "ipython",
    "version": 3
   },
   "file_extension": ".py",
   "mimetype": "text/x-python",
   "name": "python",
   "nbconvert_exporter": "python",
   "pygments_lexer": "ipython3",
   "version": "3.10.5"
  }
 },
 "nbformat": 4,
 "nbformat_minor": 1
}