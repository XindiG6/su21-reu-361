{
 "cells": [
  {
   "cell_type": "code",
   "execution_count": 2,
   "metadata": {
    "pycharm": {
     "name": "#%%\n"
    }
   },
   "outputs": [],
   "source": [
    "import os.path\n",
    "import yfinance as yf\n",
    "import matplotlib.pyplot as plt\n",
    "import matplotlib.dates as mdates\n",
    "import numpy as np\n",
    "import pandas as pd\n",
    "from cloudmesh.common.StopWatch import StopWatch\n",
    "from cloudmesh.common.util import path_expand\n",
    "from cloudmesh.common.util import writefile\n",
    "from tensorflow import keras\n",
    "from pandas.plotting import register_matplotlib_converters\n",
    "from sklearn.metrics import mean_squared_error\n",
    "import math\n",
    "import platform\n",
    "import datetime as dt\n",
    "from pprint import pprint\n",
    "import yaml\n",
    "from cloudmesh.common.util import readfile\n",
    "import textwrap\n",
    "from cloudmesh.common.FlatDict import FlatDict\n",
    "from configuration import read_config"
   ]
  },
  {
   "cell_type": "code",
   "execution_count": null,
   "metadata": {
    "pycharm": {
     "name": "#%%\n",
     "is_executing": true
    }
   },
   "outputs": [],
   "source": [
    "config = read_config(\"config-gregor.yaml\")\n",
    "print (config)"
   ]
  },
  {
   "cell_type": "code",
   "execution_count": 4,
   "metadata": {
    "pycharm": {
     "name": "#%%\n"
    }
   },
   "outputs": [],
   "source": [
    "def create_dataset(X, y, time_steps=1):\n",
    "    Xs, ys = [], []\n",
    "    for i in range(len(X) - time_steps):\n",
    "        v = X.iloc[i:(i + time_steps)].values\n",
    "        Xs.append(v)\n",
    "        ys.append(y.iloc[i + time_steps])\n",
    "    return np.array(Xs), np.array(ys)"
   ]
  },
  {
   "cell_type": "code",
   "execution_count": 4,
   "metadata": {
    "pycharm": {
     "name": "#%%\n"
    }
   },
   "outputs": [],
   "source": []
  },
  {
   "cell_type": "code",
   "execution_count": 5,
   "metadata": {
    "pycharm": {
     "name": "#%%\n"
    }
   },
   "outputs": [],
   "source": [
    "def lstm(crypto, epoch):\n",
    "    #\"EOS-USD\", \"DOGE-USD\",\\n\"ETH-USD\", and \"BTC-USD\"\n",
    "    print(crypto + ' selected')\n",
    "    StopWatch.start(\"Overall time\")\n",
    "\n",
    "    # Creating desktop path to save figures to the desktop\n",
    "\n",
    "    pdfpath = {}\n",
    "    for name in [\"prediction-model\",\n",
    "                 \"prediction-model-zoomed\",\n",
    "                 \"price\",\n",
    "                 \"training-loss\",\n",
    "                 \"epoch\",\n",
    "                 \"prediction-model-zoomed\"]:\n",
    "        if name == \"price\":\n",
    "            pdfpath[name] = path_expand(f\"graphics/{crypto}-{name}.pdf\")\n",
    "        else:\n",
    "            pdfpath[name] = path_expand(f\"graphics/{crypto}-{name}-{epoch}.pdf\")\n",
    "\n",
    "    def save_figure(name, show=True):\n",
    "        png = pdfpath[name].replace(\".pdf\", \".png\")\n",
    "        plt.savefig(pdfpath[name])\n",
    "        plt.savefig(png, dpi=300)\n",
    "        if show:\n",
    "            plt.show()\n",
    "\n",
    "    register_matplotlib_converters()\n",
    "    ticker = yf.Ticker(crypto)\n",
    "    data = ticker.history(period=\"max\", interval=\"1d\")\n",
    "    # print(data)\n",
    "    # Sort the dataframe according to the date\n",
    "    data.sort_values('Date', inplace=True, ascending=True)\n",
    "\n",
    "    # Print the dataframe top\n",
    "    data.head()\n",
    "\n",
    "    # Visualization of data. Plotting the price close\n",
    "    plt.figure(num=None, figsize=(7, 4), dpi=300, facecolor='w', edgecolor='k')\n",
    "    days = mdates.drange(data.index.min(), data.index.max() + dt.timedelta(days=1), dt.timedelta(days=1))\n",
    "    plt.gca().xaxis.set_major_formatter(mdates.DateFormatter('%Y-%m-%d'))\n",
    "    plt.gca().xaxis.set_major_locator(mdates.DayLocator(interval=200))\n",
    "    if len(days) > len(data['Close']):\n",
    "        plt.plot(days[:-1], data['Close'])\n",
    "    elif len(days) < len(data['Close']):\n",
    "        plt.plot(days, data['Close'].iloc[:-1])\n",
    "    else:\n",
    "        plt.plot(days, data['Close'])\n",
    "    plt.gcf().autofmt_xdate()\n",
    "    plt.tight_layout()\n",
    "    plt.grid()\n",
    "    plt.ylabel('Close Price in USD')\n",
    "    plt.xlabel('Date')\n",
    "    plt.tight_layout()\n",
    "    # plt.savefig(fullpath3, dpi=300, facecolor=\"#FFFFFF\")\n",
    "    save_figure(\"price\")\n",
    "\n",
    "    print(data.index[0])\n",
    "    firstDate = data.index[0]\n",
    "    firstDateFormatted = pd.to_datetime(data.index[0], utc=False)\n",
    "    print(firstDateFormatted)\n",
    "    date_time_obj = firstDateFormatted.to_pydatetime()\n",
    "    trueFirstDate = date_time_obj.strftime('%m/%d/%Y')\n",
    "    print(trueFirstDate)\n",
    "\n",
    "    print(data.head())\n",
    "\n",
    "    # Get Close data\n",
    "    df = data[['Close']].copy()\n",
    "    # Split data into train and test\n",
    "    train, test = df.iloc[0:-200], df.iloc[-200:len(df)]\n",
    "\n",
    "    print(len(train), len(test))\n",
    "\n",
    "    train_max = train.max()\n",
    "    train_min = train.min()\n",
    "\n",
    "    # Normalize the dataframes\n",
    "    train = (train - train_min) / (train_max - train_min)\n",
    "    test = (test - train_min) / (train_max - train_min)\n",
    "    time_steps = 10\n",
    "\n",
    "    X_train, y_train = create_dataset(train, train.Close, time_steps)\n",
    "    X_test, y_test = create_dataset(test, test.Close, time_steps)\n",
    "    StopWatch.start(\"Training time\")\n",
    "\n",
    "    model = keras.Sequential()\n",
    "    model.add(keras.layers.LSTM(250, input_shape=(X_train.shape[1], X_train.shape[2])))\n",
    "    model.add(keras.layers.Dropout(0.2))\n",
    "    model.add(keras.layers.Dense(1))\n",
    "    model.compile(loss='mae', optimizer='adam')\n",
    "    model.summary()\n",
    "\n",
    "    history = model.fit(\n",
    "        X_train, y_train,\n",
    "        epochs=epoch,\n",
    "        batch_size=32,\n",
    "        shuffle=False\n",
    "    )\n",
    "\n",
    "    StopWatch.stop(\"Training time\")\n",
    "\n",
    "    # Plotting the loss\n",
    "    plt.plot(history.history['loss'], label='train')\n",
    "    plt.legend()\n",
    "    plt.ylabel('Model Loss')\n",
    "    plt.xlabel('Number of Epochs')\n",
    "    save_figure(\"training-loss\", show=False)\n",
    "\n",
    "    StopWatch.start(\"Prediction time\")\n",
    "\n",
    "    y_pred = model.predict(X_test)\n",
    "\n",
    "    StopWatch.stop(\"Prediction time\")\n",
    "\n",
    "    # Rescale the data back to the original scale\n",
    "    y_test = y_test * (train_max[0] - train_min[0]) + train_min[0]\n",
    "    y_pred = y_pred * (train_max[0] - train_min[0]) + train_min[0]\n",
    "    y_train = y_train * (train_max[0] - train_min[0]) + train_min[0]\n",
    "\n",
    "    # Plotting the results\n",
    "    plt.plot(np.arange(len(y_train), len(y_train) + len(y_test)), y_test.flatten(), marker='.', markersize=1,\n",
    "             label=\"true\")\n",
    "    plt.plot(np.arange(len(y_train), len(y_train) + len(y_test)), y_pred.flatten(), 'r', marker='.', markersize=1,\n",
    "             label=\"prediction\")\n",
    "    plt.plot(np.arange(0, len(y_train)), y_train.flatten(), 'g', marker='.', markersize=1, label=\"history\")\n",
    "    plt.ylabel('Close Price in USD')\n",
    "    plt.xlabel('Days Since ' + trueFirstDate)\n",
    "    leg = plt.legend()\n",
    "    leg_lines = leg.get_lines()\n",
    "    leg_texts = leg.get_texts()\n",
    "    plt.setp(leg_lines, linewidth=1)\n",
    "    plt.setp(leg_texts, fontsize='x-large')\n",
    "    save_figure(\"prediction-model\", show=False)\n",
    "\n",
    "    # doge plt.axis([1350, 1450, 0.14, 0.35])\n",
    "    # btc plt.axis([2490, 2650, 34000, 73000])\n",
    "    # eth plt.axis([1370, 1490, 2200, 5800])\n",
    "    # plt.axis([1440, 1500, 2, 6])\n",
    "    # plt.title('5 Epochs', fontsize=20)\n",
    "    save_figure(\"epoch\", show=False)\n",
    "    if crypto == \"EOS-USD\":\n",
    "        plt.axis([1500, 1560, 1.5, 4.2])\n",
    "        save_figure(\"prediction-model-zoomed\", show=False)\n",
    "    elif crypto == \"BTC-USD\":\n",
    "        plt.axis([2620, 2750, 29000, 70000])\n",
    "        save_figure(\"prediction-model-zoomed\", show=False)\n",
    "    elif crypto == \"ETH-USD\":\n",
    "        plt.axis([1500, 1600, 2200, 5200])\n",
    "        save_figure(\"prediction-model-zoomed\", show=False)\n",
    "    elif crypto == \"DOGE-USD\":\n",
    "        plt.axis([1500, 1600, 0.09, 0.3])\n",
    "        save_figure(\"prediction-model-zoomed\",show=False)\n",
    "\n",
    "\n",
    "    print(y_test.shape)\n",
    "    print(y_pred.shape)\n",
    "\n",
    "    ## Outputs error in United States Dollars\n",
    "    print(f\"Root mean squared error: {math.sqrt(mean_squared_error(y_test, y_pred))}\")\n",
    "    #math.sqrt(mean_squared_error(y_test, y_pred))\n",
    "\n",
    "    ## Create a table of the error against the number of epochs\n",
    "\n",
    "    StopWatch.stop(\"Overall time\")\n",
    "\n",
    "    core_name = platform.processor().split()[0]\n",
    "\n",
    "    benchmark_filename = path_expand(f\"benchmarks/{core_name}-{crypto}-benchmark.log\")\n",
    "    sysinfo_filename = path_expand(f\"benchmarks/{core_name}-{crypto}-systeminfo.log\")\n",
    "    StopWatch.benchmark(filename=benchmark_filename, sysinfo=False)\n",
    "    writefile(sysinfo_filename, StopWatch.systeminfo())\n",
    "\n",
    "    benchmark_filename = path_expand(f\"benchmarks/{core_name}-{crypto}-combined-benchmark.log\")\n",
    "    StopWatch.benchmark(filename=benchmark_filename, sysinfo=True)\n"
   ]
  },
  {
   "cell_type": "code",
   "execution_count": null,
   "metadata": {
    "pycharm": {
     "name": "#%%\n",
     "is_executing": true
    }
   },
   "outputs": [],
   "source": [
    "list_of_cryptos = [\"EOS-USD\", \"BTC-USD\", \"ETH-USD\", \"DOGE-USD\"]\n",
    "epochs = config['experiments.epoch']\n",
    "print(epochs)\n",
    "for crypto in list_of_cryptos:\n",
    "    for epoch in epochs:\n",
    "        lstm(crypto, epoch)"
   ]
  },
  {
   "cell_type": "code",
   "execution_count": null,
   "metadata": {
    "pycharm": {
     "name": "#%%\n"
    }
   },
   "outputs": [],
   "source": []
  }
 ],
 "metadata": {
  "kernelspec": {
   "display_name": "Python 3",
   "language": "python",
   "name": "python3"
  },
  "language_info": {
   "codemirror_mode": {
    "name": "ipython",
    "version": 3
   },
   "file_extension": ".py",
   "mimetype": "text/x-python",
   "name": "python",
   "nbconvert_exporter": "python",
   "pygments_lexer": "ipython3",
   "version": "3.10.5"
  }
 },
 "nbformat": 4,
 "nbformat_minor": 1
}