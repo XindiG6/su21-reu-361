{
 "cells": [
  {
   "cell_type": "code",
   "execution_count": 1,
   "outputs": [
    {
     "name": "stderr",
     "output_type": "stream",
     "text": [
      "/tmp/ipykernel_261118/3472911437.py:5: FutureWarning: The pandas.datetime class is deprecated and will be removed from pandas in a future version. Import from datetime module instead.\n",
      "  from pandas import datetime\n"
     ]
    }
   ],
   "source": [
    "# https://machinelearningmastery.com/arima-for-time-series-forecasting-with-python/\n",
    "\n",
    "# evaluate an ARIMA model using a walk-forward validation\n",
    "from pandas import read_csv\n",
    "from pandas import datetime\n",
    "from matplotlib import pyplot\n",
    "from statsmodels.tsa.arima.model import ARIMA\n",
    "from sklearn.metrics import mean_squared_error\n",
    "from math import sqrt\n",
    "import yfinance as yf\n",
    "from tqdm.notebook import trange, tqdm"
   ],
   "metadata": {
    "collapsed": false,
    "pycharm": {
     "name": "#%%\n"
    }
   }
  },
  {
   "cell_type": "code",
   "execution_count": 2,
   "outputs": [],
   "source": [
    "crypto = \"BTC-USD\"\n",
    "ticker = yf.Ticker(crypto)\n",
    "data = ticker.history(start=\"2017-11-09\", end=\"2022-06-15\", interval=\"1d\")"
   ],
   "metadata": {
    "collapsed": false,
    "pycharm": {
     "name": "#%%\n"
    }
   }
  },
  {
   "cell_type": "code",
   "execution_count": 3,
   "outputs": [
    {
     "data": {
      "text/plain": "Date\n2017-11-09     7143.580078\n2017-11-10     6618.140137\n2017-11-11     6357.600098\n2017-11-12     5950.069824\n2017-11-13     6559.490234\n                  ...     \n2022-06-11    28360.810547\n2022-06-12    26762.648438\n2022-06-13    22487.388672\n2022-06-14    22206.792969\n2022-06-15    22593.755859\nName: Close, Length: 1680, dtype: float64"
     },
     "execution_count": 3,
     "metadata": {},
     "output_type": "execute_result"
    }
   ],
   "source": [
    "data['Close']"
   ],
   "metadata": {
    "collapsed": false,
    "pycharm": {
     "name": "#%%\n"
    }
   }
  },
  {
   "cell_type": "code",
   "execution_count": 4,
   "outputs": [
    {
     "name": "stdout",
     "output_type": "stream",
     "text": [
      "0.0001\n",
      "1.0001\n"
     ]
    },
    {
     "data": {
      "text/plain": "                    Open          High           Low         Close  \\\nDate                                                                 \n2017-11-09   7446.830078   7446.830078   7101.520020   7143.580078   \n2017-11-10   7173.729980   7312.000000   6436.870117   6618.140137   \n2017-11-11   6618.609863   6873.149902   6204.220215   6357.600098   \n2017-11-12   6295.450195   6625.049805   5519.009766   5950.069824   \n2017-11-13   5938.250000   6811.189941   5844.290039   6559.490234   \n...                  ...           ...           ...           ...   \n2022-06-11  29084.666016  29401.916016  28236.212891  28360.810547   \n2022-06-12  28373.513672  28502.685547  26762.648438  26762.648438   \n2022-06-13  26737.578125  26795.589844  22141.257812  22487.388672   \n2022-06-14  22487.986328  23018.951172  20950.818359  22206.792969   \n2022-06-15  22046.111328  22616.205078  20181.580078  22593.755859   \n\n                 Volume  Dividends  Stock Splits  normalized     value  \nDate                                                                    \n2017-11-09   3226249984          0             0    0.060831  0.060831  \n2017-11-10   5208249856          0             0    0.052663  0.052663  \n2017-11-11   4908680192          0             0    0.048613  0.048613  \n2017-11-12   8957349888          0             0    0.042278  0.042278  \n2017-11-13   6263249920          0             0    0.051751  0.051751  \n...                 ...        ...           ...         ...       ...  \n2022-06-11  27246574439          0             0    0.390649  0.390649  \n2022-06-12  34163220274          0             0    0.365806  0.365806  \n2022-06-13  68204556440          0             0    0.299348  0.299348  \n2022-06-14  50913575242          0             0    0.294986  0.294986  \n2022-06-15  55285989376          0             0    0.301001  0.301001  \n\n[1680 rows x 9 columns]",
      "text/html": "<div>\n<style scoped>\n    .dataframe tbody tr th:only-of-type {\n        vertical-align: middle;\n    }\n\n    .dataframe tbody tr th {\n        vertical-align: top;\n    }\n\n    .dataframe thead th {\n        text-align: right;\n    }\n</style>\n<table border=\"1\" class=\"dataframe\">\n  <thead>\n    <tr style=\"text-align: right;\">\n      <th></th>\n      <th>Open</th>\n      <th>High</th>\n      <th>Low</th>\n      <th>Close</th>\n      <th>Volume</th>\n      <th>Dividends</th>\n      <th>Stock Splits</th>\n      <th>normalized</th>\n      <th>value</th>\n    </tr>\n    <tr>\n      <th>Date</th>\n      <th></th>\n      <th></th>\n      <th></th>\n      <th></th>\n      <th></th>\n      <th></th>\n      <th></th>\n      <th></th>\n      <th></th>\n    </tr>\n  </thead>\n  <tbody>\n    <tr>\n      <th>2017-11-09</th>\n      <td>7446.830078</td>\n      <td>7446.830078</td>\n      <td>7101.520020</td>\n      <td>7143.580078</td>\n      <td>3226249984</td>\n      <td>0</td>\n      <td>0</td>\n      <td>0.060831</td>\n      <td>0.060831</td>\n    </tr>\n    <tr>\n      <th>2017-11-10</th>\n      <td>7173.729980</td>\n      <td>7312.000000</td>\n      <td>6436.870117</td>\n      <td>6618.140137</td>\n      <td>5208249856</td>\n      <td>0</td>\n      <td>0</td>\n      <td>0.052663</td>\n      <td>0.052663</td>\n    </tr>\n    <tr>\n      <th>2017-11-11</th>\n      <td>6618.609863</td>\n      <td>6873.149902</td>\n      <td>6204.220215</td>\n      <td>6357.600098</td>\n      <td>4908680192</td>\n      <td>0</td>\n      <td>0</td>\n      <td>0.048613</td>\n      <td>0.048613</td>\n    </tr>\n    <tr>\n      <th>2017-11-12</th>\n      <td>6295.450195</td>\n      <td>6625.049805</td>\n      <td>5519.009766</td>\n      <td>5950.069824</td>\n      <td>8957349888</td>\n      <td>0</td>\n      <td>0</td>\n      <td>0.042278</td>\n      <td>0.042278</td>\n    </tr>\n    <tr>\n      <th>2017-11-13</th>\n      <td>5938.250000</td>\n      <td>6811.189941</td>\n      <td>5844.290039</td>\n      <td>6559.490234</td>\n      <td>6263249920</td>\n      <td>0</td>\n      <td>0</td>\n      <td>0.051751</td>\n      <td>0.051751</td>\n    </tr>\n    <tr>\n      <th>...</th>\n      <td>...</td>\n      <td>...</td>\n      <td>...</td>\n      <td>...</td>\n      <td>...</td>\n      <td>...</td>\n      <td>...</td>\n      <td>...</td>\n      <td>...</td>\n    </tr>\n    <tr>\n      <th>2022-06-11</th>\n      <td>29084.666016</td>\n      <td>29401.916016</td>\n      <td>28236.212891</td>\n      <td>28360.810547</td>\n      <td>27246574439</td>\n      <td>0</td>\n      <td>0</td>\n      <td>0.390649</td>\n      <td>0.390649</td>\n    </tr>\n    <tr>\n      <th>2022-06-12</th>\n      <td>28373.513672</td>\n      <td>28502.685547</td>\n      <td>26762.648438</td>\n      <td>26762.648438</td>\n      <td>34163220274</td>\n      <td>0</td>\n      <td>0</td>\n      <td>0.365806</td>\n      <td>0.365806</td>\n    </tr>\n    <tr>\n      <th>2022-06-13</th>\n      <td>26737.578125</td>\n      <td>26795.589844</td>\n      <td>22141.257812</td>\n      <td>22487.388672</td>\n      <td>68204556440</td>\n      <td>0</td>\n      <td>0</td>\n      <td>0.299348</td>\n      <td>0.299348</td>\n    </tr>\n    <tr>\n      <th>2022-06-14</th>\n      <td>22487.986328</td>\n      <td>23018.951172</td>\n      <td>20950.818359</td>\n      <td>22206.792969</td>\n      <td>50913575242</td>\n      <td>0</td>\n      <td>0</td>\n      <td>0.294986</td>\n      <td>0.294986</td>\n    </tr>\n    <tr>\n      <th>2022-06-15</th>\n      <td>22046.111328</td>\n      <td>22616.205078</td>\n      <td>20181.580078</td>\n      <td>22593.755859</td>\n      <td>55285989376</td>\n      <td>0</td>\n      <td>0</td>\n      <td>0.301001</td>\n      <td>0.301001</td>\n    </tr>\n  </tbody>\n</table>\n<p>1680 rows × 9 columns</p>\n</div>"
     },
     "execution_count": 4,
     "metadata": {},
     "output_type": "execute_result"
    }
   ],
   "source": [
    "def normalize(data, col):\n",
    "\tx = data[col]\n",
    "\tdata['normalized'] = (x - x.min()) / (x.max() - x.min()) + 0.0001\n",
    "\treturn data\n",
    "\n",
    "data = normalize(data, \"Close\")\n",
    "print (data[\"normalized\"].min())\n",
    "print (data[\"normalized\"].max())\n",
    "\n",
    "data[\"value\"] = data[\"normalized\"]\n",
    "#data[\"value\"] = data[\"Close\"]\n",
    "data"
   ],
   "metadata": {
    "collapsed": false,
    "pycharm": {
     "name": "#%%\n"
    }
   }
  },
  {
   "cell_type": "code",
   "execution_count": 5,
   "outputs": [
    {
     "name": "stdout",
     "output_type": "stream",
     "text": [
      "1108 1680 1108 1108 572\n"
     ]
    }
   ],
   "source": [
    "\n",
    "#X = data['Close'].values\n",
    "\n",
    "\n",
    "\n",
    "X = data['value'].values\n",
    "\n",
    "size = int(len(X) * 0.66)\n",
    "train, test = X[0:size], X[size:len(X)]\n",
    "history = [x for x in train]\n",
    "predictions = list()\n",
    "\n",
    "print (size, len(X), len(history), len(train), len(test))\n"
   ],
   "metadata": {
    "collapsed": false,
    "pycharm": {
     "name": "#%%\n"
    }
   }
  },
  {
   "cell_type": "code",
   "execution_count": 6,
   "outputs": [
    {
     "data": {
      "text/plain": "<Figure size 432x288 with 1 Axes>",
      "image/png": "[encoded data removed]"
     },
     "metadata": {
      "needs_background": "light"
     },
     "output_type": "display_data"
    }
   ],
   "source": [
    "pyplot.plot(X)\n",
    "pyplot.show()\n"
   ],
   "metadata": {
    "collapsed": false,
    "pycharm": {
     "name": "#%%\n"
    }
   }
  },
  {
   "cell_type": "code",
   "execution_count": 7,
   "outputs": [
    {
     "data": {
      "text/plain": "<Figure size 432x288 with 1 Axes>",
      "image/png": "[encoded data removed]"
     },
     "metadata": {
      "needs_background": "light"
     },
     "output_type": "display_data"
    }
   ],
   "source": [
    "pyplot.plot(history)\n",
    "pyplot.show()"
   ],
   "metadata": {
    "collapsed": false,
    "pycharm": {
     "name": "#%%\n"
    }
   }
  },
  {
   "cell_type": "code",
   "execution_count": 8,
   "outputs": [
    {
     "data": {
      "text/plain": "<Figure size 432x288 with 1 Axes>",
      "image/png": "[encoded data removed]"
     },
     "metadata": {
      "needs_background": "light"
     },
     "output_type": "display_data"
    }
   ],
   "source": [
    "pyplot.plot(train, color=\"green\")\n",
    "pyplot.show()"
   ],
   "metadata": {
    "collapsed": false,
    "pycharm": {
     "name": "#%%\n"
    }
   }
  },
  {
   "cell_type": "code",
   "execution_count": 9,
   "outputs": [
    {
     "data": {
      "text/plain": "<Figure size 432x288 with 1 Axes>",
      "image/png": "[encoded data removed]"
     },
     "metadata": {
      "needs_background": "light"
     },
     "output_type": "display_data"
    }
   ],
   "source": [
    "pyplot.plot(test, color=\"red\")\n",
    "pyplot.show()"
   ],
   "metadata": {
    "collapsed": false,
    "pycharm": {
     "name": "#%%\n"
    }
   }
  },
  {
   "cell_type": "code",
   "execution_count": null,
   "outputs": [
    {
     "data": {
      "text/plain": "  0%|          | 0/572 [00:00<?, ?it/s]",
      "application/vnd.jupyter.widget-view+json": {
       "version_major": 2,
       "version_minor": 0,
       "model_id": "0fb8afd5b47246b88d5eecd327f0c0fc"
      }
     },
     "metadata": {},
     "output_type": "display_data"
    },
    {
     "name": "stdout",
     "output_type": "stream",
     "text": [
      "t=0 predicted=0.24025954638374086, expected=0.2395754360400952\n",
      "t=1 predicted=0.24072688865336245, expected=0.23534365945477598\n",
      "t=2 predicted=0.23542588996463784, expected=0.23525224249061708\n",
      "t=3 predicted=0.23504234479900044, expected=0.24680739533789878\n",
      "t=4 predicted=0.24815936903827496, expected=0.24097274023852935\n",
      "t=5 predicted=0.24083867880766577, expected=0.21638862063125736\n",
      "t=6 predicted=0.21557747424874407, expected=0.21573230694337192\n",
      "t=7 predicted=0.21599332597598084, expected=0.22519929108891965\n",
      "t=8 predicted=0.22659455515844967, expected=0.23235100626972818\n",
      "t=9 predicted=0.23213166061973065, expected=0.25486538630088706\n",
      "t=10 predicted=0.25315044149551075, expected=0.24207451048507947\n",
      "t=11 predicted=0.24097307023611184, expected=0.24826281048598423\n",
      "t=12 predicted=0.24907971461824235, expected=0.25206051588678674\n",
      "t=13 predicted=0.25221139229768885, expected=0.24046977995016788\n",
      "t=14 predicted=0.24259399522865482, expected=0.24753435906749716\n",
      "t=15 predicted=0.2464743173114556, expected=0.25050172154143757\n",
      "t=16 predicted=0.2508874640510547, expected=0.24811574181298995\n",
      "t=17 predicted=0.24871660536161297, expected=0.23458417909661092\n",
      "t=18 predicted=0.23314519206149723, expected=0.2382025724448321\n",
      "t=19 predicted=0.23910614961783822, expected=0.23371130041193194\n",
      "t=20 predicted=0.23394615420437484, expected=0.23050769901467025\n",
      "t=21 predicted=0.2307028527759961, expected=0.24208474214131379\n",
      "t=22 predicted=0.24104564691427974, expected=0.24735018925527932\n",
      "t=23 predicted=0.24763572843551346, expected=0.24897092003599355\n",
      "t=24 predicted=0.24857070150009575, expected=0.25162025105873354\n",
      "t=25 predicted=0.25099262440034387, expected=0.2810547222190343\n",
      "t=26 predicted=0.2823885823098256, expected=0.3042874738174346\n",
      "t=27 predicted=0.3049240872456367, expected=0.30946077530329574\n",
      "t=28 predicted=0.3094427916654765, expected=0.3208375876499234\n"
     ]
    },
    {
     "name": "stderr",
     "output_type": "stream",
     "text": [
      "/home/green/ENV3/lib/python3.10/site-packages/statsmodels/base/model.py:604: ConvergenceWarning: Maximum Likelihood optimization failed to converge. Check mle_retvals\n",
      "  warnings.warn(\"Maximum Likelihood optimization failed to \"\n"
     ]
    },
    {
     "name": "stdout",
     "output_type": "stream",
     "text": [
      "t=29 predicted=0.3210760607160349, expected=0.31473566468755465\n",
      "t=30 predicted=0.31651430961952415, expected=0.30425513935485426\n",
      "t=31 predicted=0.3057869295135909, expected=0.3194882538278994\n",
      "t=32 predicted=0.3202419365811974, expected=0.3110678739960301\n",
      "t=33 predicted=0.3116734211987566, expected=0.3187564019776668\n",
      "t=34 predicted=0.31899598443425176, expected=0.33319509058416197\n",
      "t=35 predicted=0.33197295396691573, expected=0.3607443563125402\n",
      "t=36 predicted=0.36319925986830925, expected=0.35818346687618186\n",
      "t=37 predicted=0.35702652011858954, expected=0.3708138544579994\n"
     ]
    },
    {
     "name": "stderr",
     "output_type": "stream",
     "text": [
      "/home/green/ENV3/lib/python3.10/site-packages/statsmodels/base/model.py:604: ConvergenceWarning: Maximum Likelihood optimization failed to converge. Check mle_retvals\n",
      "  warnings.warn(\"Maximum Likelihood optimization failed to \"\n"
     ]
    },
    {
     "name": "stdout",
     "output_type": "stream",
     "text": [
      "t=38 predicted=0.37184949187619754, expected=0.3751295488410387\n",
      "t=39 predicted=0.3757446290000993, expected=0.3981128241211083\n",
      "t=40 predicted=0.4014714694532682, expected=0.4006119289270903\n",
      "t=41 predicted=0.4004728937550261, expected=0.4064013157788473\n",
      "t=42 predicted=0.40790860450969774, expected=0.44919802637119827\n",
      "t=43 predicted=0.45142535134507933, expected=0.4593760954445327\n",
      "t=44 predicted=0.46247943477721876, expected=0.44678308225091823\n",
      "t=45 predicted=0.4475861849173893, expected=0.478191655844489\n",
      "t=46 predicted=0.4805402203293346, expected=0.522213584500152\n",
      "t=47 predicted=0.5280644971644486, expected=0.5618012894376457\n",
      "t=48 predicted=0.5678156512612709, expected=0.5839770229001469\n",
      "t=49 predicted=0.5890015695531654, expected=0.5755352082038816\n",
      "t=50 predicted=0.5819964026084661, expected=0.5460294797819133\n",
      "t=51 predicted=0.5483042014204803, expected=0.5026627414572198\n",
      "t=52 predicted=0.49903379948487064, expected=0.47711177587730075\n",
      "t=53 predicted=0.4738455744069046, expected=0.5298615805498219\n"
     ]
    },
    {
     "name": "stderr",
     "output_type": "stream",
     "text": [
      "/home/green/ENV3/lib/python3.10/site-packages/statsmodels/base/model.py:604: ConvergenceWarning: Maximum Likelihood optimization failed to converge. Check mle_retvals\n",
      "  warnings.warn(\"Maximum Likelihood optimization failed to \"\n"
     ]
    },
    {
     "name": "stdout",
     "output_type": "stream",
     "text": [
      "t=54 predicted=0.5377683394334025, expected=0.5589454732693578\n",
      "t=55 predicted=0.5619426397033916, expected=0.5222291900529842\n",
      "t=56 predicted=0.5121635787558109, expected=0.5121681626258912\n",
      "t=57 predicted=0.5092830510839494, expected=0.5061544383619222\n",
      "t=58 predicted=0.5102233747303343, expected=0.519193393890165\n",
      "t=59 predicted=0.5252668960623911, expected=0.5104840988039163\n",
      "t=60 predicted=0.5053614329858013, expected=0.5023688469992131\n",
      "t=61 predicted=0.500902647845688, expected=0.42896536640228916\n",
      "t=62 predicted=0.41890783176686625, expected=0.462854069178262\n",
      "t=63 predicted=0.47090041923882053, expected=0.44827116583255894\n",
      "t=64 predicted=0.44797856463239183, expected=0.4517180195436171\n",
      "t=65 predicted=0.4499272520133959, expected=0.4529151840450285\n",
      "t=66 predicted=0.4464696161242395, expected=0.4560778891783506\n",
      "t=67 predicted=0.4589522013431378, expected=0.42285387972563615\n",
      "t=68 predicted=0.4193086491958496, expected=0.4700099134547615\n",
      "t=69 predicted=0.47316204631832337, expected=0.48322751309363565\n",
      "t=70 predicted=0.48438547837513285, expected=0.4824990313141509\n",
      "t=71 predicted=0.4798659927512588, expected=0.4645422013739323\n",
      "t=72 predicted=0.4621646437313485, expected=0.47111481088407764\n",
      "t=73 predicted=0.4748512009453178, expected=0.5017865230627907\n",
      "t=74 predicted=0.5051393116613018, expected=0.5322823843426634\n",
      "t=75 predicted=0.5324706286401921, expected=0.5237945423738426\n",
      "t=76 predicted=0.519488491983883, expected=0.5427319110966835\n",
      "t=77 predicted=0.5443566947408233, expected=0.5601685964238267\n",
      "t=78 predicted=0.5646625262559549, expected=0.5545325022495982\n",
      "t=79 predicted=0.5545371742189864, expected=0.6679013178737562\n",
      "t=80 predicted=0.6734488139073406, expected=0.6723260082386389\n",
      "t=81 predicted=0.6747803603433201, expected=0.6480306520807576\n",
      "t=82 predicted=0.6474170343072652, expected=0.6945275485492088\n",
      "t=83 predicted=0.6981115145742992, expected=0.6882399680857336\n",
      "t=84 predicted=0.6986532183204194, expected=0.6820323584902739\n",
      "t=85 predicted=0.6850741246188023, expected=0.7070871039233271\n",
      "t=86 predicted=0.7050876803184084, expected=0.6950829119196488\n",
      "t=87 predicted=0.6980307509901532, expected=0.7145887599639481\n",
      "t=88 predicted=0.7167959609910121, expected=0.7604325913712708\n",
      "t=89 predicted=0.7595261112207419, expected=0.7531387867210955\n",
      "t=90 predicted=0.7551912148028015, expected=0.8185566569736146\n",
      "t=91 predicted=0.8232797947956115, expected=0.8218426277577122\n",
      "t=92 predicted=0.8212067676305642, expected=0.844233802860091\n",
      "t=93 predicted=0.8567879531618269, expected=0.7924287109928733\n",
      "t=94 predicted=0.7900859260362061, expected=0.7087525260926969\n",
      "t=95 predicted=0.7122619671128623, expected=0.7224460647319546\n",
      "t=96 predicted=0.7219329512713878, expected=0.6818510426118425\n",
      "t=97 predicted=0.6804588394188538, expected=0.6701288435550615\n",
      "t=98 predicted=0.6703667984837196, expected=0.6677767770610761\n",
      "t=99 predicted=0.654585176788344, expected=0.6514440783333172\n",
      "t=100 predicted=0.6538582870788195, expected=0.7212943506441419\n",
      "t=101 predicted=0.7206104239480625, expected=0.7018282755068662\n",
      "t=102 predicted=0.6989697807928592, expected=0.7353935122130453\n",
      "t=103 predicted=0.7414080959548871, expected=0.7046602279309399\n",
      "t=104 predicted=0.6967480812397464, expected=0.7103517612870197\n",
      "t=105 predicted=0.7202807828682727, expected=0.7101198032643781\n",
      "t=106 predicted=0.7046958255455551, expected=0.7457844422414505\n",
      "t=107 predicted=0.751816586411903, expected=0.7619484552658327\n",
      "t=108 predicted=0.7600108172317084, expected=0.8020167140753646\n",
      "t=109 predicted=0.8053091219178422, expected=0.8204285339275345\n",
      "t=110 predicted=0.8214563839208542, expected=0.8483559155216168\n",
      "t=111 predicted=0.8543668044081941, expected=0.8410027247598855\n",
      "t=112 predicted=0.8423918570279656, expected=0.9017984974402946\n",
      "t=113 predicted=0.9071298760365787, expected=0.8716295633839567\n",
      "t=114 predicted=0.8763159794732851, expected=0.8188530410334349\n",
      "t=115 predicted=0.8210508232594573, expected=0.8328076842531531\n",
      "t=116 predicted=0.8254991446082451, expected=0.8649231833178219\n",
      "t=117 predicted=0.8704025858164192, expected=0.8491922395650313\n",
      "t=118 predicted=0.8497462192649425, expected=0.8567739271956634\n",
      "t=119 predicted=0.8535270543290081, expected=0.8562608263340608\n",
      "t=120 predicted=0.8558274858552883, expected=0.8439769488193124\n",
      "t=121 predicted=0.846865373128085, expected=0.797431414032501\n",
      "t=122 predicted=0.7951048210448792, expected=0.8006927316864435\n",
      "t=123 predicted=0.7992718896742611, expected=0.7701521182959198\n",
      "t=124 predicted=0.7681059393316229, expected=0.753517509806754\n",
      "t=125 predicted=0.752714304897086, expected=0.8068852822270302\n",
      "t=126 predicted=0.8030233034325487, expected=0.8198838576282947\n",
      "t=127 predicted=0.822252627510359, expected=0.8195299698387776\n",
      "t=128 predicted=0.8217221824965175, expected=0.8475021642655064\n",
      "t=129 predicted=0.8456321685923335, expected=0.865650632823384\n",
      "t=130 predicted=0.8682506991491232, expected=0.865668363646057\n",
      "t=131 predicted=0.8682993254893848, expected=0.8684194343721834\n",
      "t=132 predicted=0.868451273076092, expected=0.872904178790572\n",
      "t=133 predicted=0.8733817234053453, expected=0.8452278219257046\n",
      "t=134 predicted=0.8455158513049641, expected=0.8631768794505048\n",
      "t=135 predicted=0.8628456504470032, expected=0.8678298237963064\n",
      "t=136 predicted=0.866635043420916, expected=0.8543754690971496\n",
      "t=137 predicted=0.8566860287021598, expected=0.8210563386385533\n",
      "t=138 predicted=0.8188646467741486, expected=0.8564210716800689\n",
      "t=139 predicted=0.855559547616615, expected=0.8551938194299091\n",
      "t=140 predicted=0.8544533643666335, expected=0.8792608001628807\n",
      "t=141 predicted=0.8821140289313545, expected=0.8856610806499221\n",
      "t=142 predicted=0.884385609284647, expected=0.880818683678298\n",
      "t=143 predicted=0.8831762679454638, expected=0.936935583720846\n",
      "t=144 predicted=0.9368623536308984, expected=0.9308146244129017\n",
      "t=145 predicted=0.932757291642768, expected=0.9339906883852243\n",
      "t=146 predicted=0.9377858573767326, expected=0.9069236767447569\n",
      "t=147 predicted=0.9044657284674835, expected=0.8931048079068782\n",
      "t=148 predicted=0.8946223150235542, expected=0.823656150873999\n",
      "t=149 predicted=0.8204974324521371, expected=0.8160093692642383\n",
      "t=150 predicted=0.8130563457090414, expected=0.8276488042412128\n",
      "t=151 predicted=0.8242571244856309, expected=0.7877461343132892\n",
      "t=152 predicted=0.7894007114231566, expected=0.7544208709331519\n",
      "t=153 predicted=0.7518715005683306, expected=0.7440272691369467\n",
      "t=154 predicted=0.7394591052167001, expected=0.7278173502839999\n",
      "t=155 predicted=0.7258056098390077, expected=0.711547923875506\n",
      "t=156 predicted=0.7094314688902195, expected=0.7895441125987392\n",
      "t=157 predicted=0.7894127032054618, expected=0.8052655837202387\n",
      "t=158 predicted=0.8077401802120817, expected=0.802025822374683\n",
      "t=159 predicted=0.8082765388461416, expected=0.7822902022995784\n",
      "t=160 predicted=0.7801310409875927, expected=0.8475017999335337\n",
      "t=161 predicted=0.8474201669405097, expected=0.8487123536349431\n",
      "t=162 predicted=0.8491858580478725, expected=0.8301056161773597\n",
      "t=163 predicted=0.8340075798533515, expected=0.8389539646332024\n",
      "t=164 predicted=0.8390102122916847, expected=0.7788459292733271\n",
      "t=165 predicted=0.777189826237021, expected=0.8424315740349589\n",
      "t=166 predicted=0.8410760455819118, expected=0.826459381794222\n"
     ]
    },
    {
     "name": "stderr",
     "output_type": "stream",
     "text": [
      "/home/green/ENV3/lib/python3.10/site-packages/statsmodels/base/model.py:604: ConvergenceWarning: Maximum Likelihood optimization failed to converge. Check mle_retvals\n",
      "  warnings.warn(\"Maximum Likelihood optimization failed to \"\n"
     ]
    },
    {
     "name": "stdout",
     "output_type": "stream",
     "text": [
      "t=167 predicted=0.8246648392924716, expected=0.8413806584596032\n",
      "t=168 predicted=0.8451025112497801, expected=0.8638798579918981\n",
      "t=169 predicted=0.8601862583611368, expected=0.8549965943886683\n",
      "t=170 predicted=0.858945172763445, expected=0.8181161796185772\n",
      "t=171 predicted=0.819052714102014, expected=0.831248100521863\n",
      "t=172 predicted=0.8290384921777718, expected=0.7138218411613397\n",
      "t=173 predicted=0.715243028489149, expected=0.722614871879322\n",
      "t=174 predicted=0.7178110423584787, expected=0.7251695676721439\n",
      "t=175 predicted=0.717584990321179, expected=0.6766642912039879\n",
      "t=176 predicted=0.6836565132230101, expected=0.6719366588037755\n",
      "t=177 predicted=0.6687231603774343, expected=0.6265683413428681\n",
      "t=178 predicted=0.6234220986519415, expected=0.6168044873615364\n",
      "t=179 predicted=0.6156595372152656, expected=0.524981778828997\n",
      "t=180 predicted=0.5205983457075359, expected=0.5837458542634462\n",
      "t=181 predicted=0.5737089816431159, expected=0.529680203949395\n",
      "t=182 predicted=0.5303066803059722, expected=0.5332856938735818\n",
      "t=183 predicted=0.5329082559485259, expected=0.4902879023932785\n",
      "t=184 predicted=0.4888565298213212, expected=0.5514630053793008\n",
      "t=185 predicted=0.5405310131516535, expected=0.5467411415686568\n",
      "t=186 predicted=0.5513841317545656, expected=0.5606067663430366\n",
      "t=187 predicted=0.5614101444944176, expected=0.5472812637182373\n",
      "t=188 predicted=0.5517891550081189, expected=0.504698324910889\n",
      "t=189 predicted=0.5067475799763569, expected=0.4878859831410237\n",
      "t=190 predicted=0.48409571550715524, expected=0.5043955650415457\n",
      "t=191 predicted=0.4990837139463765, expected=0.5301180095366322\n",
      "t=192 predicted=0.5286736233405877, expected=0.5200460521503572\n",
      "t=193 predicted=0.5237801509302733, expected=0.5338848985247409\n"
     ]
    },
    {
     "name": "stderr",
     "output_type": "stream",
     "text": [
      "/home/green/ENV3/lib/python3.10/site-packages/statsmodels/base/model.py:604: ConvergenceWarning: Maximum Likelihood optimization failed to converge. Check mle_retvals\n",
      "  warnings.warn(\"Maximum Likelihood optimization failed to \"\n"
     ]
    },
    {
     "name": "stdout",
     "output_type": "stream",
     "text": [
      "t=194 predicted=0.533590703606688, expected=0.55927871558042\n",
      "t=195 predicted=0.5589201222107607, expected=0.5233023906006723\n",
      "t=196 predicted=0.5284091867964396, expected=0.5024342445883191\n",
      "t=197 predicted=0.5020519896679912, expected=0.507259700123211\n",
      "t=198 predicted=0.5035148327905354, expected=0.47148060018470417\n",
      "t=199 predicted=0.47215052787855033, expected=0.4701115013531593\n",
      "t=200 predicted=0.46735211263733917, expected=0.5303086766023639\n",
      "t=201 predicted=0.5248509237549835, expected=0.5203207584577998\n",
      "t=202 predicted=0.5256584529467938, expected=0.5301419947248374\n",
      "t=203 predicted=0.5330283705523362, expected=0.5024429278336693\n",
      "t=204 predicted=0.5052425643903818, expected=0.5575546966854352\n",
      "t=205 predicted=0.5500061431139723, expected=0.5749745012978416\n",
      "t=206 predicted=0.5775664565847782, expected=0.5778937112293854\n"
     ]
    },
    {
     "name": "stderr",
     "output_type": "stream",
     "text": [
      "/home/green/ENV3/lib/python3.10/site-packages/statsmodels/base/model.py:604: ConvergenceWarning: Maximum Likelihood optimization failed to converge. Check mle_retvals\n",
      "  warnings.warn(\"Maximum Likelihood optimization failed to \"\n"
     ]
    },
    {
     "name": "stdout",
     "output_type": "stream",
     "text": [
      "t=207 predicted=0.581096012092581, expected=0.5458836862708236\n",
      "t=208 predicted=0.550847479747798, expected=0.541320367590315\n",
      "t=209 predicted=0.5387315267610353, expected=0.5060917732626117\n",
      "t=210 predicted=0.5064287652727957, expected=0.5034277778779691\n",
      "t=211 predicted=0.49961063812241785, expected=0.5047090727040846\n",
      "t=212 predicted=0.5036267183734392, expected=0.4421939263613431\n"
     ]
    },
    {
     "name": "stderr",
     "output_type": "stream",
     "text": [
      "/home/green/ENV3/lib/python3.10/site-packages/statsmodels/base/model.py:604: ConvergenceWarning: Maximum Likelihood optimization failed to converge. Check mle_retvals\n",
      "  warnings.warn(\"Maximum Likelihood optimization failed to \"\n"
     ]
    },
    {
     "name": "stdout",
     "output_type": "stream",
     "text": [
      "t=213 predicted=0.44564603759164817, expected=0.45508007498802105\n"
     ]
    },
    {
     "name": "stderr",
     "output_type": "stream",
     "text": [
      "/home/green/ENV3/lib/python3.10/site-packages/statsmodels/base/model.py:604: ConvergenceWarning: Maximum Likelihood optimization failed to converge. Check mle_retvals\n",
      "  warnings.warn(\"Maximum Likelihood optimization failed to \"\n"
     ]
    },
    {
     "name": "stdout",
     "output_type": "stream",
     "text": [
      "t=214 predicted=0.4492046503993055, expected=0.4740038419838799\n",
      "t=215 predicted=0.4708403113105156, expected=0.48860681394908106\n",
      "t=216 predicted=0.48848281020455725, expected=0.4415890138426111\n",
      "t=217 predicted=0.4482691364180906, expected=0.4501153231955533\n",
      "t=218 predicted=0.4468714724786278, expected=0.4884079494139629\n",
      "t=219 predicted=0.4845384357855575, expected=0.48506101374642746\n"
     ]
    },
    {
     "name": "stderr",
     "output_type": "stream",
     "text": [
      "/home/green/ENV3/lib/python3.10/site-packages/statsmodels/base/model.py:604: ConvergenceWarning: Maximum Likelihood optimization failed to converge. Check mle_retvals\n",
      "  warnings.warn(\"Maximum Likelihood optimization failed to \"\n"
     ]
    },
    {
     "name": "stdout",
     "output_type": "stream",
     "text": [
      "t=220 predicted=0.4863677069053299, expected=0.5073436179209311\n",
      "t=221 predicted=0.5081907266530598, expected=0.49448895364889706\n",
      "t=222 predicted=0.4980261584489796, expected=0.47165796913343094\n",
      "t=223 predicted=0.47268420901023817, expected=0.4767089461594461\n",
      "t=224 predicted=0.4748710533352564, expected=0.48870178314997414\n",
      "t=225 predicted=0.48662695796318484, expected=0.49832767675763\n",
      "t=226 predicted=0.49817987725989205, expected=0.47436100876115167\n",
      "t=227 predicted=0.47753822009083413, expected=0.48196540641808416\n",
      "t=228 predicted=0.4805096807379666, expected=0.47606043524797675\n",
      "t=229 predicted=0.4762246158362465, expected=0.46085825863161645\n",
      "t=230 predicted=0.4609953266737997, expected=0.4751694614086519\n",
      "t=231 predicted=0.47334057437702054, expected=0.47085589229545355\n",
      "t=232 predicted=0.47125453483142443, expected=0.48204300912827686\n",
      "t=233 predicted=0.4811534044853498, expected=0.46518712968766973\n",
      "t=234 predicted=0.46756477211573844, expected=0.45813253933859294\n"
     ]
    },
    {
     "name": "stderr",
     "output_type": "stream",
     "text": [
      "/home/green/ENV3/lib/python3.10/site-packages/statsmodels/base/model.py:604: ConvergenceWarning: Maximum Likelihood optimization failed to converge. Check mle_retvals\n",
      "  warnings.warn(\"Maximum Likelihood optimization failed to \"\n"
     ]
    },
    {
     "name": "stdout",
     "output_type": "stream",
     "text": [
      "t=235 predicted=0.4576805716740963, expected=0.46000292860362424\n",
      "t=236 predicted=0.45907222051230917, expected=0.4438111656273186\n",
      "t=237 predicted=0.444225451465206, expected=0.43822759597915945\n",
      "t=238 predicted=0.4375248441505629, expected=0.43996130003241946\n",
      "t=239 predicted=0.4388956895433578, expected=0.44406112772161294\n",
      "t=240 predicted=0.4431677260241476, expected=0.42884307230344093\n",
      "t=241 predicted=0.43025936429806805, expected=0.41313526363091907\n",
      "t=242 predicted=0.4134709730780936, expected=0.44894038294447874\n",
      "t=243 predicted=0.4447671615734608, expected=0.4520868449440164\n",
      "t=244 predicted=0.45304165727543505, expected=0.471804612752457\n",
      "t=245 predicted=0.4717181643882463, expected=0.4828553479834863\n",
      "t=246 predicted=0.48474519561385265, expected=0.49929777135703396\n",
      "t=247 predicted=0.4994995220331662, expected=0.5301907544871884\n",
      "t=248 predicted=0.5303591138420738, expected=0.5623593245758857\n",
      "t=249 predicted=0.5635885526260733, expected=0.5715146834407536\n"
     ]
    },
    {
     "name": "stderr",
     "output_type": "stream",
     "text": [
      "/home/green/ENV3/lib/python3.10/site-packages/statsmodels/base/model.py:604: ConvergenceWarning: Maximum Likelihood optimization failed to converge. Check mle_retvals\n",
      "  warnings.warn(\"Maximum Likelihood optimization failed to \"\n"
     ]
    },
    {
     "name": "stdout",
     "output_type": "stream",
     "text": [
      "t=250 predicted=0.5752777771850831, expected=0.5717092367141944\n"
     ]
    },
    {
     "name": "stderr",
     "output_type": "stream",
     "text": [
      "/home/green/ENV3/lib/python3.10/site-packages/statsmodels/base/model.py:604: ConvergenceWarning: Maximum Likelihood optimization failed to converge. Check mle_retvals\n",
      "  warnings.warn(\"Maximum Likelihood optimization failed to \"\n"
     ]
    },
    {
     "name": "stdout",
     "output_type": "stream",
     "text": [
      "t=251 predicted=0.5748265488530317, expected=0.6063295180914202\n",
      "t=252 predicted=0.6057383872805718, expected=0.5968572511322678\n",
      "t=253 predicted=0.600283750998774, expected=0.5711880598271961\n",
      "t=254 predicted=0.5738121249510805, expected=0.5591726949763539\n",
      "t=255 predicted=0.5588608431691552, expected=0.5428667139265957\n",
      "t=256 predicted=0.5411236131375884, expected=0.5676533110277155\n"
     ]
    },
    {
     "name": "stderr",
     "output_type": "stream",
     "text": [
      "/home/green/ENV3/lib/python3.10/site-packages/statsmodels/base/model.py:604: ConvergenceWarning: Maximum Likelihood optimization failed to converge. Check mle_retvals\n",
      "  warnings.warn(\"Maximum Likelihood optimization failed to \"\n"
     ]
    },
    {
     "name": "stdout",
     "output_type": "stream",
     "text": [
      "t=257 predicted=0.5635770694262969, expected=0.5850954006124541\n",
      "t=258 predicted=0.584855875953191, expected=0.615360336143608\n",
      "t=259 predicted=0.6155878412501726, expected=0.642397472562311\n"
     ]
    },
    {
     "name": "stderr",
     "output_type": "stream",
     "text": [
      "/home/green/ENV3/lib/python3.10/site-packages/statsmodels/base/model.py:604: ConvergenceWarning: Maximum Likelihood optimization failed to converge. Check mle_retvals\n",
      "  warnings.warn(\"Maximum Likelihood optimization failed to \"\n"
     ]
    },
    {
     "name": "stdout",
     "output_type": "stream",
     "text": [
      "t=260 predicted=0.644842544076847, expected=0.6306194092697105\n",
      "t=261 predicted=0.6348183621387713, expected=0.6705274227332343\n",
      "t=262 predicted=0.6693151802357269, expected=0.6583966860910258\n",
      "t=263 predicted=0.6622186176013328, expected=0.6585304566470151\n",
      "t=264 predicted=0.658944335718145, expected=0.640415324464643\n",
      "t=265 predicted=0.6421342256047583, expected=0.6927241660061632\n",
      "t=266 predicted=0.6871825430203746, expected=0.6818991344322436\n",
      "t=267 predicted=0.6860652788858743, expected=0.6811228037203395\n",
      "t=268 predicted=0.6819612826951539, expected=0.6649170139630836\n",
      "t=269 predicted=0.6675233858419203, expected=0.6445668872939649\n",
      "t=270 predicted=0.6436729964773831, expected=0.646211967594857\n",
      "t=271 predicted=0.6439426074184033, expected=0.6760019356775545\n",
      "t=272 predicted=0.6730073889782139, expected=0.7167542277658975\n",
      "t=273 predicted=0.716380466282356, expected=0.7100126896643938\n",
      "t=274 predicted=0.7147671750024497, expected=0.7164818288942822\n",
      "t=275 predicted=0.7178482031267011, expected=0.71997158269513\n",
      "t=276 predicted=0.7208931792759311, expected=0.691368608179605\n",
      "t=277 predicted=0.6927945755428642, expected=0.7108722702320679\n",
      "t=278 predicted=0.7078920906595456, expected=0.6794939361922342\n",
      "t=279 predicted=0.681951398055436, expected=0.7123937812722072\n",
      "t=280 predicted=0.7076722015715557, expected=0.7099646585659881\n",
      "t=281 predicted=0.7124391559252093, expected=0.7088365653344079\n",
      "t=282 predicted=0.7089247859174911, expected=0.6812468587570559\n",
      "t=283 predicted=0.6840497194141582, expected=0.6829832649391138\n",
      "t=284 predicted=0.6802283424503788, expected=0.7091038635584048\n",
      "t=285 predicted=0.7067131688086085, expected=0.7165761908752207\n",
      "t=286 predicted=0.7174515935324389, expected=0.7274210785416544\n",
      "t=287 predicted=0.72831153377126, expected=0.7261658334515894\n",
      "t=288 predicted=0.7279347338707856, expected=0.7542830927254625\n",
      "t=289 predicted=0.752753364287681, expected=0.767964486965629\n",
      "t=290 predicted=0.7695509366289388, expected=0.6774561667467286\n"
     ]
    },
    {
     "name": "stderr",
     "output_type": "stream",
     "text": [
      "/home/green/ENV3/lib/python3.10/site-packages/statsmodels/base/model.py:604: ConvergenceWarning: Maximum Likelihood optimization failed to converge. Check mle_retvals\n",
      "  warnings.warn(\"Maximum Likelihood optimization failed to \"\n"
     ]
    },
    {
     "name": "stdout",
     "output_type": "stream",
     "text": [
      "t=291 predicted=0.685203547311396, expected=0.6662679569179871\n",
      "t=292 predicted=0.6618389007475183, expected=0.6709318919449662\n",
      "t=293 predicted=0.667482502525769, expected=0.6474978772926272\n",
      "t=294 predicted=0.6464578374847365, expected=0.6524340897472307\n",
      "t=295 predicted=0.6514289695095486, expected=0.6658308192726998\n",
      "t=296 predicted=0.6647801294417345, expected=0.6487284692525371\n",
      "t=297 predicted=0.6502748530623886, expected=0.6818299113574238\n",
      "t=298 predicted=0.6794656996178197, expected=0.6986782612705944\n",
      "t=299 predicted=0.6993573511847001, expected=0.6925693249177505\n",
      "t=300 predicted=0.6947655159092361, expected=0.6845506818078176\n",
      "t=301 predicted=0.6862339014014177, expected=0.7002640769039215\n",
      "t=302 predicted=0.6983120335571084, expected=0.6844371923983106\n",
      "t=303 predicted=0.6857138998949595, expected=0.6157847221698495\n",
      "t=304 predicted=0.6195613413608163, expected=0.5823613927670509\n",
      "t=305 predicted=0.579642926113749, expected=0.6271434393618313\n",
      "t=306 predicted=0.6196579970208106, expected=0.647671785087613\n",
      "t=307 predicted=0.6464862714846965, expected=0.6157217534605617\n",
      "t=308 predicted=0.6200191722691729, expected=0.6138073103878271\n",
      "t=309 predicted=0.6152334868951322, expected=0.6214545170515561\n",
      "t=310 predicted=0.6198580320668362, expected=0.6063323720252066\n",
      "t=311 predicted=0.6059581062482897, expected=0.5876601155345264\n",
      "t=312 predicted=0.5889129959813597, expected=0.595896082666196\n",
      "t=313 predicted=0.594478912095434, expected=0.6305071343001125\n",
      "t=314 predicted=0.6276663687489009, expected=0.6977548011637006\n"
     ]
    },
    {
     "name": "stderr",
     "output_type": "stream",
     "text": [
      "/home/green/ENV3/lib/python3.10/site-packages/statsmodels/base/model.py:604: ConvergenceWarning: Maximum Likelihood optimization failed to converge. Check mle_retvals\n",
      "  warnings.warn(\"Maximum Likelihood optimization failed to \"\n"
     ]
    },
    {
     "name": "stdout",
     "output_type": "stream",
     "text": [
      "t=315 predicted=0.696062659869359, expected=0.6914521009233568\n",
      "t=316 predicted=0.6960430269955943, expected=0.6990452042891345\n",
      "t=317 predicted=0.7011340716089681, expected=0.7132368454571173\n",
      "t=318 predicted=0.7142794306842156, expected=0.7505741325210188\n",
      "t=319 predicted=0.7483680588368369, expected=0.810369449604296\n"
     ]
    },
    {
     "name": "stderr",
     "output_type": "stream",
     "text": [
      "/home/green/ENV3/lib/python3.10/site-packages/statsmodels/base/model.py:604: ConvergenceWarning: Maximum Likelihood optimization failed to converge. Check mle_retvals\n",
      "  warnings.warn(\"Maximum Likelihood optimization failed to \"\n"
     ]
    },
    {
     "name": "stdout",
     "output_type": "stream",
     "text": [
      "t=320 predicted=0.8105249044854081, expected=0.7861900117357401\n",
      "t=321 predicted=0.791333419165034, expected=0.7887061490614474\n",
      "t=322 predicted=0.7907471465824982, expected=0.8042568092097293\n",
      "t=323 predicted=0.8054692198116586, expected=0.8012000032364823\n",
      "t=324 predicted=0.8009278020945961, expected=0.8433764082842532\n",
      "t=325 predicted=0.8418290859135099, expected=0.8209338623737187\n",
      "t=326 predicted=0.8242883621283927, expected=0.8420754395316099\n",
      "t=327 predicted=0.8413256718299925, expected=0.8408384717621772\n",
      "t=328 predicted=0.8428168542198252, expected=0.9072526077941417\n",
      "t=329 predicted=0.903839653166939, expected=0.8963437191444975\n",
      "t=330 predicted=0.9009225211499154, expected=0.9066256531910593\n",
      "t=331 predicted=0.9073292506418518, expected=0.913969978541454\n",
      "t=332 predicted=0.9170571594494645, expected=0.9487268844084558\n",
      "t=333 predicted=0.9475674070419575, expected=0.9756325577069965\n",
      "t=334 predicted=0.9767797313993947, expected=0.9168316847433011\n",
      "t=335 predicted=0.9224255822906366, expected=0.8932360888610539\n",
      "t=336 predicted=0.8943511478447811, expected=0.9041384802571844\n",
      "t=337 predicted=0.9033766479432653, expected=0.8969446240115294\n",
      "t=338 predicted=0.8944465847493376, expected=0.9297284900801815\n",
      "t=339 predicted=0.9259959446186092, expected=0.8881300369851602\n",
      "t=340 predicted=0.8914795976529888, expected=0.858883895093766\n",
      "t=341 predicted=0.8592228451239401, expected=0.8921459468766336\n"
     ]
    },
    {
     "name": "stderr",
     "output_type": "stream",
     "text": [
      "/home/green/ENV3/lib/python3.10/site-packages/statsmodels/base/model.py:604: ConvergenceWarning: Maximum Likelihood optimization failed to converge. Check mle_retvals\n",
      "  warnings.warn(\"Maximum Likelihood optimization failed to \"\n"
     ]
    },
    {
     "name": "stdout",
     "output_type": "stream",
     "text": [
      "t=342 predicted=0.8898984080494954, expected=0.9171082734326028\n",
      "t=343 predicted=0.9152007995213066, expected=0.9118365112311099\n",
      "t=344 predicted=0.9108849131916772, expected=0.9029779007580352\n",
      "t=345 predicted=0.9046092249769533, expected=0.8980882620739464\n"
     ]
    },
    {
     "name": "stderr",
     "output_type": "stream",
     "text": [
      "/home/green/ENV3/lib/python3.10/site-packages/statsmodels/base/model.py:604: ConvergenceWarning: Maximum Likelihood optimization failed to converge. Check mle_retvals\n",
      "  warnings.warn(\"Maximum Likelihood optimization failed to \"\n"
     ]
    },
    {
     "name": "stdout",
     "output_type": "stream",
     "text": [
      "t=346 predicted=0.9001965892071091, expected=0.9326288154711386\n",
      "t=347 predicted=0.9311587174894702, expected=0.9286438130753523\n",
      "t=348 predicted=0.9291448063117347, expected=0.9050496137990006\n",
      "t=349 predicted=0.9061418822957544, expected=0.8999733764228758\n",
      "t=350 predicted=0.9012458272678904, expected=0.9062193623194637\n",
      "t=351 predicted=0.906288636238683, expected=0.9341924068541289\n"
     ]
    },
    {
     "name": "stderr",
     "output_type": "stream",
     "text": [
      "/home/green/ENV3/lib/python3.10/site-packages/statsmodels/base/model.py:604: ConvergenceWarning: Maximum Likelihood optimization failed to converge. Check mle_retvals\n",
      "  warnings.warn(\"Maximum Likelihood optimization failed to \"\n"
     ]
    },
    {
     "name": "stdout",
     "output_type": "stream",
     "text": [
      "t=352 predicted=0.9314870240304773, expected=1.0001\n",
      "t=353 predicted=0.9971311004461069, expected=0.9908508256521527\n",
      "t=354 predicted=0.9935826121287027, expected=0.9601249494534929\n",
      "t=355 predicted=0.9635047396044303, expected=0.9594212422481542\n",
      "t=356 predicted=0.9629561532562699, expected=0.9470783429538226\n",
      "t=357 predicted=0.9490919529317465, expected=0.9519529833050339\n",
      "t=358 predicted=0.9497286991745333, expected=0.9674560374088783\n",
      "t=359 predicted=0.9657318099608266, expected=0.937781441117547\n",
      "t=360 predicted=0.9388800079690125, expected=0.8849814800767793\n",
      "t=361 predicted=0.8863791831264142, expected=0.8881956167402526\n",
      "t=362 predicted=0.8876914192310265, expected=0.8349409693975108\n",
      "t=363 predicted=0.8356170930769903, expected=0.8532440968778147\n",
      "t=364 predicted=0.8477220589414965, expected=0.8777678891826012\n",
      "t=365 predicted=0.8749546492842699, expected=0.8627404097471676\n",
      "t=366 predicted=0.8622474726895761, expected=0.8247925630189568\n",
      "t=367 predicted=0.8252163851975449, expected=0.8446866067802059\n",
      "t=368 predicted=0.8446374436485273, expected=0.8246547848112672\n",
      "t=369 predicted=0.825526413059853, expected=0.8401102935926696\n",
      "t=370 predicted=0.837135938329505, expected=0.7825180312265291\n",
      "t=371 predicted=0.7850188123963584, expected=0.8018762033778796\n",
      "t=372 predicted=0.799284747982401, expected=0.839702666837174\n",
      "t=373 predicted=0.8377351890525638, expected=0.8483783826599355\n",
      "t=374 predicted=0.8466443235393221, expected=0.8359247871678879\n",
      "t=375 predicted=0.8359158380510661, expected=0.8394130836408447\n",
      "t=376 predicted=0.8416347016712358, expected=0.8277231886856463\n",
      "t=377 predicted=0.8299045266931551, expected=0.7829607552953982\n",
      "t=378 predicted=0.7844354897159913, expected=0.7146016937489802\n",
      "t=379 predicted=0.7158452371661569, expected=0.7172154720433808\n",
      "t=380 predicted=0.7148366895558406, expected=0.7360834355254156\n",
      "t=381 predicted=0.7325930155915752, expected=0.7379093459287754\n",
      "t=382 predicted=0.7337562383681092, expected=0.7348736104879516\n",
      "t=383 predicted=0.7334713354791375, expected=0.690840144653152\n",
      "t=384 predicted=0.6933354013957125, expected=0.6841742661579864\n",
      "t=385 predicted=0.6843926453993059, expected=0.7171169202447558\n",
      "t=386 predicted=0.7157245980666068, expected=0.7285552439727803\n",
      "t=387 predicted=0.7263899442625836, expected=0.6763113142444025\n",
      "t=388 predicted=0.6763461867358918, expected=0.6743705785476355\n",
      "t=389 predicted=0.6755762402597159, expected=0.7098763687845953\n",
      "t=390 predicted=0.710331061195832, expected=0.6907360671529406\n",
      "t=391 predicted=0.6890071572787211, expected=0.6679896076551491\n",
      "t=392 predicted=0.6671156047971939, expected=0.6780414053389329\n",
      "t=393 predicted=0.679581417061475, expected=0.6758377434018417\n",
      "t=394 predicted=0.6757995927207447, expected=0.6785310675102895\n",
      "t=395 predicted=0.6765444321191272, expected=0.7104964618021912\n",
      "t=396 predicted=0.7091761897792542, expected=0.7057070751326001\n",
      "t=397 predicted=0.7060924741556609, expected=0.7392221554705326\n",
      "t=398 predicted=0.738260179232961, expected=0.7398075155067277\n",
      "t=399 predicted=0.7417260680970356, expected=0.733708719727125\n",
      "t=400 predicted=0.7349278100473254, expected=0.7396104119094778\n",
      "t=401 predicted=0.741078571285569, expected=0.736981817448186\n",
      "t=402 predicted=0.7381492600553794, expected=0.6895457945980134\n",
      "t=403 predicted=0.6910330601438953, expected=0.671760261406976\n",
      "t=404 predicted=0.6724222604115477, expected=0.6831610589418087\n"
     ]
    },
    {
     "name": "stderr",
     "output_type": "stream",
     "text": [
      "/home/green/ENV3/lib/python3.10/site-packages/statsmodels/base/model.py:604: ConvergenceWarning: Maximum Likelihood optimization failed to converge. Check mle_retvals\n",
      "  warnings.warn(\"Maximum Likelihood optimization failed to \"\n"
     ]
    },
    {
     "name": "stdout",
     "output_type": "stream",
     "text": [
      "t=405 predicted=0.6823793766911715, expected=0.6696109456558179\n",
      "t=406 predicted=0.6672365504187829, expected=0.6910685200780617\n",
      "t=407 predicted=0.688166725759071, expected=0.6857585030194315\n",
      "t=408 predicted=0.6859915018086403, expected=0.6719686592953807\n",
      "t=409 predicted=0.6722701602906415, expected=0.6632551136694502\n",
      "t=410 predicted=0.6642550167210308, expected=0.6270578820702338\n",
      "t=411 predicted=0.6285298738503424, expected=0.6207144373709392\n",
      "t=412 predicted=0.6199051607922376, expected=0.5957956484857119\n",
      "t=413 predicted=0.5954050187204448, expected=0.5985321459329288\n",
      "t=414 predicted=0.5961536120144153, expected=0.6012938430082599\n",
      "t=415 predicted=0.5996305226242173, expected=0.5998895254193506\n",
      "t=416 predicted=0.5985385458597271, expected=0.6141067305474203\n",
      "t=417 predicted=0.6130814454520646, expected=0.6329664358380731\n",
      "t=418 predicted=0.6326059195744324, expected=0.6118638422012647\n",
      "t=419 predicted=0.6128085057779113, expected=0.6197626200921674\n",
      "t=420 predicted=0.6202512919990896, expected=0.6209704413037814\n",
      "t=421 predicted=0.6220589575122877, expected=0.6199830409356725\n",
      "t=422 predicted=0.6195614759301169, expected=0.6065627512759665\n",
      "t=423 predicted=0.6068852276222769, expected=0.6085071302924608\n",
      "t=424 predicted=0.6086356876897777, expected=0.5986936057188461\n",
      "t=425 predicted=0.5988892964866006, expected=0.5821553023144735\n",
      "t=426 predicted=0.5819995249744203, expected=0.516507902919131\n",
      "t=427 predicted=0.5181143107640717, expected=0.49432439704121145\n",
      "t=428 predicted=0.4937828617919598, expected=0.513701878787117\n",
      "t=429 predicted=0.5112828937277138, expected=0.5195704167599509\n"
     ]
    },
    {
     "name": "stderr",
     "output_type": "stream",
     "text": [
      "/home/green/ENV3/lib/python3.10/site-packages/statsmodels/base/model.py:604: ConvergenceWarning: Maximum Likelihood optimization failed to converge. Check mle_retvals\n",
      "  warnings.warn(\"Maximum Likelihood optimization failed to \"\n"
     ]
    },
    {
     "name": "stdout",
     "output_type": "stream",
     "text": [
      "t=430 predicted=0.5154806792151783, expected=0.5242288260853434\n",
      "t=431 predicted=0.5214887043991484, expected=0.5226450749998618\n"
     ]
    },
    {
     "name": "stderr",
     "output_type": "stream",
     "text": [
      "/home/green/ENV3/lib/python3.10/site-packages/statsmodels/base/model.py:604: ConvergenceWarning: Maximum Likelihood optimization failed to converge. Check mle_retvals\n",
      "  warnings.warn(\"Maximum Likelihood optimization failed to \"\n"
     ]
    },
    {
     "name": "stdout",
     "output_type": "stream",
     "text": [
      "t=432 predicted=0.5231545720150004, expected=0.5270926575570315\n"
     ]
    },
    {
     "name": "stderr",
     "output_type": "stream",
     "text": [
      "/home/green/ENV3/lib/python3.10/site-packages/statsmodels/base/model.py:604: ConvergenceWarning: Maximum Likelihood optimization failed to converge. Check mle_retvals\n",
      "  warnings.warn(\"Maximum Likelihood optimization failed to \"\n"
     ]
    },
    {
     "name": "stdout",
     "output_type": "stream",
     "text": [
      "t=433 predicted=0.5277830530801535, expected=0.5371361363274377\n",
      "t=434 predicted=0.5372469271104553, expected=0.5426366382858132\n",
      "t=435 predicted=0.5426041578775063, expected=0.5392077886464077\n",
      "t=436 predicted=0.5395901966204905, expected=0.5479987548165446\n",
      "t=437 predicted=0.5484070256844226, expected=0.5520427182699186\n",
      "t=438 predicted=0.5524740896112724, expected=0.5242129776445295\n",
      "t=439 predicted=0.5250474507304159, expected=0.5273470827179918\n",
      "t=440 predicted=0.5275500505732652, expected=0.5949091680740507\n",
      "t=441 predicted=0.5931977475101232, expected=0.5939809716515113\n",
      "t=442 predicted=0.5926082410726188, expected=0.6090791922116511\n",
      "t=443 predicted=0.6087824399503972, expected=0.6312749032106573\n",
      "t=444 predicted=0.6341867318749063, expected=0.6355988557850786\n",
      "t=445 predicted=0.637231313852121, expected=0.6390241835487477\n",
      "t=446 predicted=0.6399891189041202, expected=0.6269974029627597\n",
      "t=447 predicted=0.6288460896922232, expected=0.6090093011948814\n",
      "t=448 predicted=0.6102118919076653, expected=0.6064682071290416\n",
      "t=449 predicted=0.6066185520759683, expected=0.6057383287436613\n",
      "t=450 predicted=0.6050126308038504, expected=0.6117915223046766\n",
      "t=451 predicted=0.6104568240857136, expected=0.6426990787137405\n",
      "t=452 predicted=0.6414210411670179, expected=0.6331647538752322\n",
      "t=453 predicted=0.633436196910222, expected=0.5799416212481321\n",
      "t=454 predicted=0.5818926090532104, expected=0.5720598455159569\n",
      "t=455 predicted=0.5738794419629408, expected=0.5734772183338892\n",
      "t=456 predicted=0.5731429342405409, expected=0.5471943705427399\n",
      "t=457 predicted=0.5449527012730219, expected=0.5261140618782637\n",
      "t=458 predicted=0.5251694114142977, expected=0.5449349050918247\n",
      "t=459 predicted=0.5441265036105153, expected=0.5295539629208421\n",
      "t=460 predicted=0.5282576449196671, expected=0.5456590148876367\n",
      "t=461 predicted=0.5440595090117192, expected=0.5593634834860765\n",
      "t=462 predicted=0.559315182825705, expected=0.557668003928956\n",
      "t=463 predicted=0.5575049873986877, expected=0.5359773177661568\n",
      "t=464 predicted=0.5372271236903636, expected=0.6212166082733597\n",
      "t=465 predicted=0.6197917854441459, expected=0.6392704112403215\n",
      "t=466 predicted=0.6381848522223011, expected=0.632578057955137\n",
      "t=467 predicted=0.6329574828044229, expected=0.6096909663158696\n",
      "t=468 predicted=0.6148205211028657, expected=0.5581725429891993\n",
      "t=469 predicted=0.5614592475548765, expected=0.5622605298892789\n",
      "t=470 predicted=0.562276421603192, expected=0.547017244481995\n",
      "t=471 predicted=0.545699629897744, expected=0.5414530451503862\n"
     ]
    }
   ],
   "source": [
    "\n",
    "# walk-forward validation\n",
    "n = len(test)\n",
    "with tqdm(total=n) as pbar:\n",
    "\tfor t in range(n):\n",
    "\t\t# model = ARIMA(history, order=(0,0,0))\n",
    "\n",
    "\t\tmodel = ARIMA(history, order=(5,1,0))\n",
    "\n",
    "\t\tmodel_fit = model.fit()\n",
    "\t\toutput = model_fit.forecast()\n",
    "\t\tyhat = output[0]\n",
    "\t\tpredictions.append(yhat)\n",
    "\t\tobs = test[t]\n",
    "\t\thistory.append(obs)\n",
    "\t\tpbar.write(f't={t} predicted={yhat}, expected={obs}')\n",
    "\t\tpbar.update(1)"
   ],
   "metadata": {
    "collapsed": false,
    "pycharm": {
     "name": "#%%\n",
     "is_executing": true
    }
   }
  },
  {
   "cell_type": "code",
   "execution_count": null,
   "outputs": [],
   "source": [
    "\n",
    "# evaluate forecasts\n",
    "rmse = sqrt(mean_squared_error(test, predictions))\n",
    "print('Test RMSE: %.3f' % rmse)"
   ],
   "metadata": {
    "collapsed": false,
    "pycharm": {
     "name": "#%%\n",
     "is_executing": true
    }
   }
  },
  {
   "cell_type": "code",
   "execution_count": null,
   "outputs": [],
   "source": [
    "\n",
    "# plot forecasts against actual outcomes\n",
    "pyplot.plot(test, color=\"blue\")\n",
    "pyplot.plot(predictions, color='red')\n",
    "pyplot.show()\n"
   ],
   "metadata": {
    "collapsed": false,
    "pycharm": {
     "name": "#%%\n",
     "is_executing": true
    }
   }
  },
  {
   "cell_type": "code",
   "execution_count": null,
   "outputs": [],
   "source": [
    "diff = predictions - test\n",
    "pyplot.plot(diff, color='red')\n",
    "pyplot.show()"
   ],
   "metadata": {
    "collapsed": false,
    "pycharm": {
     "name": "#%%\n",
     "is_executing": true
    }
   }
  },
  {
   "cell_type": "code",
   "execution_count": null,
   "outputs": [],
   "source": [
    "diff = predictions - test\n",
    "\n",
    "pyplot.plot(test, color=\"green\")\n",
    "pyplot.plot(predictions, color='blue')\n",
    "pyplot.plot(diff, color='red')\n",
    "pyplot.show()"
   ],
   "metadata": {
    "collapsed": false,
    "pycharm": {
     "name": "#%%\n",
     "is_executing": true
    }
   }
  },
  {
   "cell_type": "code",
   "execution_count": null,
   "outputs": [],
   "source": [
    "pyplot.hist(diff, bins=50)\n",
    "pyplot.show()"
   ],
   "metadata": {
    "collapsed": false,
    "pycharm": {
     "name": "#%%\n",
     "is_executing": true
    }
   }
  },
  {
   "cell_type": "code",
   "execution_count": null,
   "outputs": [],
   "source": [
    "print(\"total diff:\", sum(diff))\n",
    "print('Test RMSE: %.3f' % rmse)"
   ],
   "metadata": {
    "collapsed": false,
    "pycharm": {
     "name": "#%%\n",
     "is_executing": true
    }
   }
  },
  {
   "cell_type": "code",
   "execution_count": null,
   "outputs": [],
   "source": [],
   "metadata": {
    "collapsed": false,
    "pycharm": {
     "name": "#%%\n",
     "is_executing": true
    }
   }
  }
 ],
 "metadata": {
  "kernelspec": {
   "display_name": "Python 3",
   "language": "python",
   "name": "python3"
  },
  "language_info": {
   "codemirror_mode": {
    "name": "ipython",
    "version": 2
   },
   "file_extension": ".py",
   "mimetype": "text/x-python",
   "name": "python",
   "nbconvert_exporter": "python",
   "pygments_lexer": "ipython2",
   "version": "2.7.6"
  }
 },
 "nbformat": 4,
 "nbformat_minor": 0
}