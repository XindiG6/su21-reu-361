{
 "cells": [
  {
   "cell_type": "code",
   "execution_count": 43,
   "metadata": {},
   "outputs": [],
   "source": [
    "import yfinance as yf\n",
    "import matplotlib.pyplot as plt\n",
    "import matplotlib.dates as mdates\n",
    "import numpy as np\n",
    "import pandas as pd\n",
    "from cloudmesh.common.StopWatch import StopWatch\n",
    "from pandas.plotting import register_matplotlib_converters\n",
    "from sklearn.metrics import mean_squared_error\n",
    "import math\n",
    "import datetime as dt\n",
    "from configuration import read_config\n",
    "import os\n",
    "import torch\n",
    "import torch.nn as nn\n",
    "import torch.optim as optim\n",
    "from torch.utils.data import DataLoader, Dataset"
   ]
  },
  {
   "cell_type": "code",
   "execution_count": 44,
   "metadata": {},
   "outputs": [
    {
     "name": "stdout",
     "output_type": "stream",
     "text": [
      "{'debug': True, 'user': 'gregor', 'node': '5090X-RTX3090', 'experiments.epoch': [1, 2, 10, 20, 30], 'experiments.gpu': ['K80', 'A100', 'V100', 'P100'], 'sep': '.'}\n"
     ]
    }
   ],
   "source": [
    "config = read_config(\"config-gregor.yaml\")\n",
    "\n",
    "# config.debug = False\n",
    "print (config)\n",
    "config.debug=False\n",
    "\n",
    "epochs=[2, 10,50, 75, 100, 125, 150, 175, 200, 225]\n",
    "repeat=5"
   ]
  },
  {
   "cell_type": "code",
   "execution_count": 45,
   "metadata": {},
   "outputs": [],
   "source": [
    "class TimeSeriesDataset(Dataset):\n",
    "    def __init__(self, X, y, time_steps=10):\n",
    "        self.X = X\n",
    "        self.y = y\n",
    "        self.time_steps = time_steps\n",
    "\n",
    "    def __len__(self):\n",
    "        return len(self.X) - self.time_steps\n",
    "\n",
    "    def __getitem__(self, index):\n",
    "        X = self.X.iloc[index:(index + self.time_steps)].values\n",
    "        y = self.y.iloc[index + self.time_steps]\n",
    "        return torch.tensor(X).float(), torch.tensor(y).float()"
   ]
  },
  {
   "cell_type": "code",
   "execution_count": 46,
   "metadata": {},
   "outputs": [],
   "source": [
    "class LSTMModel(nn.Module):\n",
    "    def __init__(self, input_size, hidden_size, num_layers, output_size):\n",
    "        super(LSTMModel, self).__init__()\n",
    "        self.hidden_size = hidden_size\n",
    "        self.num_layers = num_layers\n",
    "        self.lstm = nn.LSTM(input_size, hidden_size, num_layers, batch_first=True)\n",
    "        self.dropout = nn.Dropout(0.2)\n",
    "        self.fc = nn.Linear(hidden_size, output_size)\n",
    "\n",
    "    def forward(self, x):\n",
    "        h0 = torch.zeros(self.num_layers, x.size(0), self.hidden_size).requires_grad_()\n",
    "        c0 = torch.zeros(self.num_layers, x.size(0), self.hidden_size).requires_grad_()\n",
    "        out, (hn, cn) = self.lstm(x, (h0.detach(), c0.detach()))\n",
    "        out = self.dropout(out[:, -1, :])\n",
    "        out = self.fc(out)\n",
    "        return out"
   ]
  },
  {
   "cell_type": "code",
   "execution_count": 47,
   "metadata": {},
   "outputs": [],
   "source": [
    "cryptos = [\"EOS-USD\", \"BTC-USD\", \"ETH-USD\", \"DOGE-USD\"]\n",
    "crypto = \"EOS-USD\"\n",
    "ticker = yf.Ticker(crypto)\n",
    "data = ticker.history(period=\"max\", interval=\"1d\")\n",
    "# print(data)\n",
    "# Sort the dataframe according to the date\n",
    "data.sort_values('Date', inplace=True, ascending=True)\n",
    "\n",
    "# Get Close data\n",
    "df = data[['Close']].copy()\n",
    "# Split data into train and test\n",
    "train, test = df.iloc[0:-200], df.iloc[-200:len(df)]\n",
    "\n",
    "train_max = train.max()\n",
    "train_min = train.min()\n",
    "\n",
    "# Normalize the dataframes\n",
    "train = (train - train_min) / (train_max - train_min)\n",
    "test = (test - train_min) / (train_max - train_min)"
   ]
  },
  {
   "cell_type": "code",
   "execution_count": 48,
   "metadata": {},
   "outputs": [],
   "source": [
    "time_steps = 10\n",
    "train_dataset = TimeSeriesDataset(train, train.Close, time_steps)\n",
    "test_dataset = TimeSeriesDataset(test, test.Close, time_steps)"
   ]
  },
  {
   "cell_type": "code",
   "execution_count": 49,
   "metadata": {},
   "outputs": [],
   "source": [
    "# Define the batch size and shuffle option\n",
    "batch_size = 32\n",
    "shuffle_train = False\n",
    "shuffle_test = False\n",
    "\n",
    "# Create DataLoaders for train and test sets\n",
    "train_loader = DataLoader(dataset=train_dataset, batch_size=batch_size, shuffle=shuffle_train, drop_last=False)\n",
    "test_loader = DataLoader(dataset=test_dataset, batch_size=batch_size, shuffle=shuffle_test, drop_last=False)"
   ]
  },
  {
   "cell_type": "code",
   "execution_count": 50,
   "metadata": {},
   "outputs": [],
   "source": [
    "input_size = 1\n",
    "hidden_size = 250\n",
    "num_layers = 1\n",
    "output_size = 1\n",
    "\n",
    "model = LSTMModel(input_size, hidden_size, num_layers, output_size)\n",
    "\n",
    "\n",
    "criterion = nn.L1Loss()\n",
    "optimizer = optim.Adam(model.parameters())\n",
    "\n",
    "for epoch in range(100):\n",
    "    for i, (inputs, targets) in enumerate(train_loader):\n",
    "        optimizer.zero_grad()\n",
    "        outputs = model(inputs)\n",
    "        loss = criterion(outputs, targets.view(-1, 1))\n",
    "        loss.backward()\n",
    "        optimizer.step()"
   ]
  },
  {
   "cell_type": "code",
   "execution_count": 51,
   "metadata": {},
   "outputs": [
    {
     "name": "stdout",
     "output_type": "stream",
     "text": [
      "torch.Size([32, 10, 1]) /n torch.Size([32, 1])\n",
      "torch.Size([32, 10, 1]) /n torch.Size([32, 1])\n",
      "torch.Size([32, 10, 1]) /n torch.Size([32, 1])\n",
      "torch.Size([32, 10, 1]) /n torch.Size([32, 1])\n",
      "torch.Size([32, 10, 1]) /n torch.Size([32, 1])\n",
      "torch.Size([32, 10, 1]) /n torch.Size([32, 1])\n",
      "torch.Size([32, 10, 1]) /n torch.Size([32, 1])\n",
      "torch.Size([32, 10, 1]) /n torch.Size([32, 1])\n",
      "torch.Size([32, 10, 1]) /n torch.Size([32, 1])\n",
      "torch.Size([32, 10, 1]) /n torch.Size([32, 1])\n",
      "torch.Size([32, 10, 1]) /n torch.Size([32, 1])\n",
      "torch.Size([32, 10, 1]) /n torch.Size([32, 1])\n",
      "torch.Size([32, 10, 1]) /n torch.Size([32, 1])\n",
      "torch.Size([32, 10, 1]) /n torch.Size([32, 1])\n",
      "torch.Size([32, 10, 1]) /n torch.Size([32, 1])\n",
      "torch.Size([32, 10, 1]) /n torch.Size([32, 1])\n",
      "torch.Size([32, 10, 1]) /n torch.Size([32, 1])\n",
      "torch.Size([32, 10, 1]) /n torch.Size([32, 1])\n",
      "torch.Size([32, 10, 1]) /n torch.Size([32, 1])\n",
      "torch.Size([32, 10, 1]) /n torch.Size([32, 1])\n",
      "torch.Size([32, 10, 1]) /n torch.Size([32, 1])\n",
      "torch.Size([32, 10, 1]) /n torch.Size([32, 1])\n",
      "torch.Size([32, 10, 1]) /n torch.Size([32, 1])\n",
      "torch.Size([32, 10, 1]) /n torch.Size([32, 1])\n",
      "torch.Size([32, 10, 1]) /n torch.Size([32, 1])\n",
      "torch.Size([32, 10, 1]) /n torch.Size([32, 1])\n",
      "torch.Size([32, 10, 1]) /n torch.Size([32, 1])\n",
      "torch.Size([32, 10, 1]) /n torch.Size([32, 1])\n",
      "torch.Size([32, 10, 1]) /n torch.Size([32, 1])\n",
      "torch.Size([32, 10, 1]) /n torch.Size([32, 1])\n",
      "torch.Size([32, 10, 1]) /n torch.Size([32, 1])\n",
      "torch.Size([32, 10, 1]) /n torch.Size([32, 1])\n",
      "torch.Size([32, 10, 1]) /n torch.Size([32, 1])\n",
      "torch.Size([32, 10, 1]) /n torch.Size([32, 1])\n",
      "torch.Size([32, 10, 1]) /n torch.Size([32, 1])\n",
      "torch.Size([32, 10, 1]) /n torch.Size([32, 1])\n",
      "torch.Size([32, 10, 1]) /n torch.Size([32, 1])\n",
      "torch.Size([32, 10, 1]) /n torch.Size([32, 1])\n",
      "torch.Size([32, 10, 1]) /n torch.Size([32, 1])\n",
      "torch.Size([32, 10, 1]) /n torch.Size([32, 1])\n",
      "torch.Size([32, 10, 1]) /n torch.Size([32, 1])\n",
      "torch.Size([32, 10, 1]) /n torch.Size([32, 1])\n",
      "torch.Size([32, 10, 1]) /n torch.Size([32, 1])\n",
      "torch.Size([32, 10, 1]) /n torch.Size([32, 1])\n",
      "torch.Size([32, 10, 1]) /n torch.Size([32, 1])\n",
      "torch.Size([32, 10, 1]) /n torch.Size([32, 1])\n",
      "torch.Size([32, 10, 1]) /n torch.Size([32, 1])\n",
      "torch.Size([32, 10, 1]) /n torch.Size([32, 1])\n",
      "torch.Size([32, 10, 1]) /n torch.Size([32, 1])\n",
      "torch.Size([32, 10, 1]) /n torch.Size([32, 1])\n",
      "torch.Size([32, 10, 1]) /n torch.Size([32, 1])\n",
      "torch.Size([32, 10, 1]) /n torch.Size([32, 1])\n",
      "torch.Size([32, 10, 1]) /n torch.Size([32, 1])\n",
      "torch.Size([32, 10, 1]) /n torch.Size([32, 1])\n",
      "torch.Size([32, 10, 1]) /n torch.Size([32, 1])\n",
      "torch.Size([32, 10, 1]) /n torch.Size([32, 1])\n",
      "torch.Size([32, 10, 1]) /n torch.Size([32, 1])\n",
      "torch.Size([32, 10, 1]) /n torch.Size([32, 1])\n",
      "torch.Size([32, 10, 1]) /n torch.Size([32, 1])\n",
      "torch.Size([32, 10, 1]) /n torch.Size([32, 1])\n",
      "torch.Size([32, 10, 1]) /n torch.Size([32, 1])\n",
      "torch.Size([32, 10, 1]) /n torch.Size([32, 1])\n",
      "torch.Size([32, 10, 1]) /n torch.Size([32, 1])\n",
      "torch.Size([32, 10, 1]) /n torch.Size([32, 1])\n",
      "torch.Size([32, 10, 1]) /n torch.Size([32, 1])\n",
      "torch.Size([32, 10, 1]) /n torch.Size([32, 1])\n",
      "torch.Size([32, 10, 1]) /n torch.Size([32, 1])\n",
      "torch.Size([32, 10, 1]) /n torch.Size([32, 1])\n",
      "torch.Size([32, 10, 1]) /n torch.Size([32, 1])\n",
      "torch.Size([32, 10, 1]) /n torch.Size([32, 1])\n",
      "torch.Size([32, 10, 1]) /n torch.Size([32, 1])\n",
      "torch.Size([32, 10, 1]) /n torch.Size([32, 1])\n",
      "torch.Size([32, 10, 1]) /n torch.Size([32, 1])\n",
      "torch.Size([32, 10, 1]) /n torch.Size([32, 1])\n",
      "torch.Size([32, 10, 1]) /n torch.Size([32, 1])\n",
      "torch.Size([32, 10, 1]) /n torch.Size([32, 1])\n",
      "torch.Size([32, 10, 1]) /n torch.Size([32, 1])\n",
      "torch.Size([32, 10, 1]) /n torch.Size([32, 1])\n",
      "torch.Size([32, 10, 1]) /n torch.Size([32, 1])\n",
      "torch.Size([32, 10, 1]) /n torch.Size([32, 1])\n",
      "torch.Size([32, 10, 1]) /n torch.Size([32, 1])\n",
      "torch.Size([32, 10, 1]) /n torch.Size([32, 1])\n",
      "torch.Size([32, 10, 1]) /n torch.Size([32, 1])\n",
      "torch.Size([32, 10, 1]) /n torch.Size([32, 1])\n",
      "torch.Size([32, 10, 1]) /n torch.Size([32, 1])\n",
      "torch.Size([32, 10, 1]) /n torch.Size([32, 1])\n",
      "torch.Size([32, 10, 1]) /n torch.Size([32, 1])\n",
      "torch.Size([32, 10, 1]) /n torch.Size([32, 1])\n",
      "torch.Size([32, 10, 1]) /n torch.Size([32, 1])\n",
      "torch.Size([32, 10, 1]) /n torch.Size([32, 1])\n",
      "torch.Size([32, 10, 1]) /n torch.Size([32, 1])\n",
      "torch.Size([32, 10, 1]) /n torch.Size([32, 1])\n",
      "torch.Size([32, 10, 1]) /n torch.Size([32, 1])\n",
      "torch.Size([32, 10, 1]) /n torch.Size([32, 1])\n",
      "torch.Size([32, 10, 1]) /n torch.Size([32, 1])\n",
      "torch.Size([32, 10, 1]) /n torch.Size([32, 1])\n",
      "torch.Size([32, 10, 1]) /n torch.Size([32, 1])\n",
      "torch.Size([32, 10, 1]) /n torch.Size([32, 1])\n",
      "torch.Size([32, 10, 1]) /n torch.Size([32, 1])\n",
      "torch.Size([32, 10, 1]) /n torch.Size([32, 1])\n"
     ]
    }
   ],
   "source": [
    "StopWatch.start(f\"prediction-{crypto}-{epoch}-{id}\")\n",
    "with torch.no_grad():\n",
    "    for epoch in range(100):\n",
    "        for i, (inputs, targets) in enumerate(test_loader):\n",
    "            y_pred = model(inputs)\n",
    "            if i == 0: print(inputs.shape, \"/n\", y_pred.shape)\n",
    "            loss = criterion(y_pred, targets.view(-1, 1))\n",
    "            # print(\"loss is\", loss)\n",
    "StopWatch.stop(f\"prediction-{crypto}-{epoch}-{id}\")"
   ]
  },
  {
   "cell_type": "code",
   "execution_count": 52,
   "metadata": {},
   "outputs": [
    {
     "name": "stdout",
     "output_type": "stream",
     "text": [
      "test loss is: tensor(0.0032, grad_fn=<SqrtBackward0>)\n"
     ]
    }
   ],
   "source": [
    "test_input = torch.empty(0)\n",
    "test_target = torch.empty(0)\n",
    "for i, (inputs, targets) in enumerate(test_loader):\n",
    "    test_input = torch.cat((test_input, inputs), 0)\n",
    "    test_target = torch.cat((test_target, targets))\n",
    "\n",
    "model.eval()\n",
    "y_pred = model(test_input)\n",
    "y_pred = y_pred.squeeze(1)\n",
    "criterion = nn.MSELoss()\n",
    "loss = torch.sqrt(criterion(y_pred, test_target))\n",
    "print(\"test loss is:\", loss)"
   ]
  },
  {
   "cell_type": "code",
   "execution_count": null,
   "metadata": {},
   "outputs": [],
   "source": []
  }
 ],
 "metadata": {
  "kernelspec": {
   "display_name": "Python 3.10.10 ('yfiance-torch')",
   "language": "python",
   "name": "python3"
  },
  "language_info": {
   "codemirror_mode": {
    "name": "ipython",
    "version": 3
   },
   "file_extension": ".py",
   "mimetype": "text/x-python",
   "name": "python",
   "nbconvert_exporter": "python",
   "pygments_lexer": "ipython3",
   "version": "3.10.10"
  },
  "orig_nbformat": 4,
  "vscode": {
   "interpreter": {
    "hash": "fca86702db49d61ce7e0dd8420d7f0a1258f73fef5bec44826aba215b02f2cb4"
   }
  }
 },
 "nbformat": 4,
 "nbformat_minor": 2
}
